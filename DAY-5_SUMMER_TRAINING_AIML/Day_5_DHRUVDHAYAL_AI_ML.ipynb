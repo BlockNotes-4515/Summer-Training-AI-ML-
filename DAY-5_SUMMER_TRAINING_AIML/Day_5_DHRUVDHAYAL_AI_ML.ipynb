{
  "nbformat": 4,
  "nbformat_minor": 0,
  "metadata": {
    "colab": {
      "provenance": []
    },
    "kernelspec": {
      "name": "python3",
      "display_name": "Python 3"
    },
    "language_info": {
      "name": "python"
    }
  },
  "cells": [
    {
      "cell_type": "markdown",
      "source": [
        "#MACHINE LEARNING.\n",
        "We, will train and test the model such that , model can learn from previous past experiences, surrounding of it's enviornment, by gathering and collecting all data & information in the form of a Knowledge then, it will practically Implement in rel-world implementations to perform all the task and behave just as like a Humans called as \"Machine Learning\".\n",
        "\n",
        "#1. Supervised Learning\n",
        "#2. Unsupervised Learning.\n",
        "#3. Other Tools and Techniques like: SVM, RainForest Methods, etc."
      ],
      "metadata": {
        "id": "2eBEdGxTfUzS"
      }
    },
    {
      "cell_type": "code",
      "execution_count": 4,
      "metadata": {
        "id": "U22rhcaedsxe",
        "colab": {
          "base_uri": "https://localhost:8080/"
        },
        "outputId": "e26ecff1-6bab-4e88-9833-74a59a384081"
      },
      "outputs": [
        {
          "output_type": "stream",
          "name": "stdout",
          "text": [
            "<class 'sklearn.utils._bunch.Bunch'>\n"
          ]
        }
      ],
      "source": [
        "from sklearn import datasets; #Used for Importing the Valueable Datasets Values.\n",
        "from sklearn import svm;  #Used for Classification Modelling svm-support vector Machines.\n",
        "from sklearn import metrics; #Used for Evaluation of the Model.\n",
        "from sklearn import model_selection; #Used for Model Selection.\n",
        "\n",
        "#Now, load the main_datasets;\n",
        "data=datasets.load_digits();\n",
        "print(type(data));\n",
        "#print(\"\\n Given Data is: \\n\\n\",data);"
      ]
    },
    {
      "cell_type": "code",
      "source": [
        "#Now, printing the Values of the Data.\n",
        "print(\"\\n --> Given Values of the Data are: \\n\\n\",data);"
      ],
      "metadata": {
        "colab": {
          "base_uri": "https://localhost:8080/"
        },
        "id": "8ia7ibGR5snW",
        "outputId": "74e88d36-a36e-4cf5-ad7c-bd201a3c0be5"
      },
      "execution_count": 5,
      "outputs": [
        {
          "output_type": "stream",
          "name": "stdout",
          "text": [
            "\n",
            " --> Given Values of the Data are: \n",
            "\n",
            " {'data': array([[ 0.,  0.,  5., ...,  0.,  0.,  0.],\n",
            "       [ 0.,  0.,  0., ..., 10.,  0.,  0.],\n",
            "       [ 0.,  0.,  0., ..., 16.,  9.,  0.],\n",
            "       ...,\n",
            "       [ 0.,  0.,  1., ...,  6.,  0.,  0.],\n",
            "       [ 0.,  0.,  2., ..., 12.,  0.,  0.],\n",
            "       [ 0.,  0., 10., ..., 12.,  1.,  0.]]), 'target': array([0, 1, 2, ..., 8, 9, 8]), 'frame': None, 'feature_names': ['pixel_0_0', 'pixel_0_1', 'pixel_0_2', 'pixel_0_3', 'pixel_0_4', 'pixel_0_5', 'pixel_0_6', 'pixel_0_7', 'pixel_1_0', 'pixel_1_1', 'pixel_1_2', 'pixel_1_3', 'pixel_1_4', 'pixel_1_5', 'pixel_1_6', 'pixel_1_7', 'pixel_2_0', 'pixel_2_1', 'pixel_2_2', 'pixel_2_3', 'pixel_2_4', 'pixel_2_5', 'pixel_2_6', 'pixel_2_7', 'pixel_3_0', 'pixel_3_1', 'pixel_3_2', 'pixel_3_3', 'pixel_3_4', 'pixel_3_5', 'pixel_3_6', 'pixel_3_7', 'pixel_4_0', 'pixel_4_1', 'pixel_4_2', 'pixel_4_3', 'pixel_4_4', 'pixel_4_5', 'pixel_4_6', 'pixel_4_7', 'pixel_5_0', 'pixel_5_1', 'pixel_5_2', 'pixel_5_3', 'pixel_5_4', 'pixel_5_5', 'pixel_5_6', 'pixel_5_7', 'pixel_6_0', 'pixel_6_1', 'pixel_6_2', 'pixel_6_3', 'pixel_6_4', 'pixel_6_5', 'pixel_6_6', 'pixel_6_7', 'pixel_7_0', 'pixel_7_1', 'pixel_7_2', 'pixel_7_3', 'pixel_7_4', 'pixel_7_5', 'pixel_7_6', 'pixel_7_7'], 'target_names': array([0, 1, 2, 3, 4, 5, 6, 7, 8, 9]), 'images': array([[[ 0.,  0.,  5., ...,  1.,  0.,  0.],\n",
            "        [ 0.,  0., 13., ..., 15.,  5.,  0.],\n",
            "        [ 0.,  3., 15., ..., 11.,  8.,  0.],\n",
            "        ...,\n",
            "        [ 0.,  4., 11., ..., 12.,  7.,  0.],\n",
            "        [ 0.,  2., 14., ..., 12.,  0.,  0.],\n",
            "        [ 0.,  0.,  6., ...,  0.,  0.,  0.]],\n",
            "\n",
            "       [[ 0.,  0.,  0., ...,  5.,  0.,  0.],\n",
            "        [ 0.,  0.,  0., ...,  9.,  0.,  0.],\n",
            "        [ 0.,  0.,  3., ...,  6.,  0.,  0.],\n",
            "        ...,\n",
            "        [ 0.,  0.,  1., ...,  6.,  0.,  0.],\n",
            "        [ 0.,  0.,  1., ...,  6.,  0.,  0.],\n",
            "        [ 0.,  0.,  0., ..., 10.,  0.,  0.]],\n",
            "\n",
            "       [[ 0.,  0.,  0., ..., 12.,  0.,  0.],\n",
            "        [ 0.,  0.,  3., ..., 14.,  0.,  0.],\n",
            "        [ 0.,  0.,  8., ..., 16.,  0.,  0.],\n",
            "        ...,\n",
            "        [ 0.,  9., 16., ...,  0.,  0.,  0.],\n",
            "        [ 0.,  3., 13., ..., 11.,  5.,  0.],\n",
            "        [ 0.,  0.,  0., ..., 16.,  9.,  0.]],\n",
            "\n",
            "       ...,\n",
            "\n",
            "       [[ 0.,  0.,  1., ...,  1.,  0.,  0.],\n",
            "        [ 0.,  0., 13., ...,  2.,  1.,  0.],\n",
            "        [ 0.,  0., 16., ..., 16.,  5.,  0.],\n",
            "        ...,\n",
            "        [ 0.,  0., 16., ..., 15.,  0.,  0.],\n",
            "        [ 0.,  0., 15., ..., 16.,  0.,  0.],\n",
            "        [ 0.,  0.,  2., ...,  6.,  0.,  0.]],\n",
            "\n",
            "       [[ 0.,  0.,  2., ...,  0.,  0.,  0.],\n",
            "        [ 0.,  0., 14., ..., 15.,  1.,  0.],\n",
            "        [ 0.,  4., 16., ..., 16.,  7.,  0.],\n",
            "        ...,\n",
            "        [ 0.,  0.,  0., ..., 16.,  2.,  0.],\n",
            "        [ 0.,  0.,  4., ..., 16.,  2.,  0.],\n",
            "        [ 0.,  0.,  5., ..., 12.,  0.,  0.]],\n",
            "\n",
            "       [[ 0.,  0., 10., ...,  1.,  0.,  0.],\n",
            "        [ 0.,  2., 16., ...,  1.,  0.,  0.],\n",
            "        [ 0.,  0., 15., ..., 15.,  0.,  0.],\n",
            "        ...,\n",
            "        [ 0.,  4., 16., ..., 16.,  6.,  0.],\n",
            "        [ 0.,  8., 16., ..., 16.,  8.,  0.],\n",
            "        [ 0.,  1.,  8., ..., 12.,  1.,  0.]]]), 'DESCR': \".. _digits_dataset:\\n\\nOptical recognition of handwritten digits dataset\\n--------------------------------------------------\\n\\n**Data Set Characteristics:**\\n\\n    :Number of Instances: 1797\\n    :Number of Attributes: 64\\n    :Attribute Information: 8x8 image of integer pixels in the range 0..16.\\n    :Missing Attribute Values: None\\n    :Creator: E. Alpaydin (alpaydin '@' boun.edu.tr)\\n    :Date: July; 1998\\n\\nThis is a copy of the test set of the UCI ML hand-written digits datasets\\nhttps://archive.ics.uci.edu/ml/datasets/Optical+Recognition+of+Handwritten+Digits\\n\\nThe data set contains images of hand-written digits: 10 classes where\\neach class refers to a digit.\\n\\nPreprocessing programs made available by NIST were used to extract\\nnormalized bitmaps of handwritten digits from a preprinted form. From a\\ntotal of 43 people, 30 contributed to the training set and different 13\\nto the test set. 32x32 bitmaps are divided into nonoverlapping blocks of\\n4x4 and the number of on pixels are counted in each block. This generates\\nan input matrix of 8x8 where each element is an integer in the range\\n0..16. This reduces dimensionality and gives invariance to small\\ndistortions.\\n\\nFor info on NIST preprocessing routines, see M. D. Garris, J. L. Blue, G.\\nT. Candela, D. L. Dimmick, J. Geist, P. J. Grother, S. A. Janet, and C.\\nL. Wilson, NIST Form-Based Handprint Recognition System, NISTIR 5469,\\n1994.\\n\\n.. topic:: References\\n\\n  - C. Kaynak (1995) Methods of Combining Multiple Classifiers and Their\\n    Applications to Handwritten Digit Recognition, MSc Thesis, Institute of\\n    Graduate Studies in Science and Engineering, Bogazici University.\\n  - E. Alpaydin, C. Kaynak (1998) Cascading Classifiers, Kybernetika.\\n  - Ken Tang and Ponnuthurai N. Suganthan and Xi Yao and A. Kai Qin.\\n    Linear dimensionalityreduction using relevance weighted LDA. School of\\n    Electrical and Electronic Engineering Nanyang Technological University.\\n    2005.\\n  - Claudio Gentile. A New Approximate Maximal Margin Classification\\n    Algorithm. NIPS. 2000.\\n\"}\n"
          ]
        }
      ]
    },
    {
      "cell_type": "code",
      "source": [
        "#Now, we need to describe the values of the data.\n",
        "print(data.DESCR);"
      ],
      "metadata": {
        "colab": {
          "base_uri": "https://localhost:8080/"
        },
        "id": "pGhXSEGo6CrT",
        "outputId": "57168068-8a84-4dea-95ec-7ca2ab422f70"
      },
      "execution_count": 6,
      "outputs": [
        {
          "output_type": "stream",
          "name": "stdout",
          "text": [
            ".. _digits_dataset:\n",
            "\n",
            "Optical recognition of handwritten digits dataset\n",
            "--------------------------------------------------\n",
            "\n",
            "**Data Set Characteristics:**\n",
            "\n",
            "    :Number of Instances: 1797\n",
            "    :Number of Attributes: 64\n",
            "    :Attribute Information: 8x8 image of integer pixels in the range 0..16.\n",
            "    :Missing Attribute Values: None\n",
            "    :Creator: E. Alpaydin (alpaydin '@' boun.edu.tr)\n",
            "    :Date: July; 1998\n",
            "\n",
            "This is a copy of the test set of the UCI ML hand-written digits datasets\n",
            "https://archive.ics.uci.edu/ml/datasets/Optical+Recognition+of+Handwritten+Digits\n",
            "\n",
            "The data set contains images of hand-written digits: 10 classes where\n",
            "each class refers to a digit.\n",
            "\n",
            "Preprocessing programs made available by NIST were used to extract\n",
            "normalized bitmaps of handwritten digits from a preprinted form. From a\n",
            "total of 43 people, 30 contributed to the training set and different 13\n",
            "to the test set. 32x32 bitmaps are divided into nonoverlapping blocks of\n",
            "4x4 and the number of on pixels are counted in each block. This generates\n",
            "an input matrix of 8x8 where each element is an integer in the range\n",
            "0..16. This reduces dimensionality and gives invariance to small\n",
            "distortions.\n",
            "\n",
            "For info on NIST preprocessing routines, see M. D. Garris, J. L. Blue, G.\n",
            "T. Candela, D. L. Dimmick, J. Geist, P. J. Grother, S. A. Janet, and C.\n",
            "L. Wilson, NIST Form-Based Handprint Recognition System, NISTIR 5469,\n",
            "1994.\n",
            "\n",
            ".. topic:: References\n",
            "\n",
            "  - C. Kaynak (1995) Methods of Combining Multiple Classifiers and Their\n",
            "    Applications to Handwritten Digit Recognition, MSc Thesis, Institute of\n",
            "    Graduate Studies in Science and Engineering, Bogazici University.\n",
            "  - E. Alpaydin, C. Kaynak (1998) Cascading Classifiers, Kybernetika.\n",
            "  - Ken Tang and Ponnuthurai N. Suganthan and Xi Yao and A. Kai Qin.\n",
            "    Linear dimensionalityreduction using relevance weighted LDA. School of\n",
            "    Electrical and Electronic Engineering Nanyang Technological University.\n",
            "    2005.\n",
            "  - Claudio Gentile. A New Approximate Maximal Margin Classification\n",
            "    Algorithm. NIPS. 2000.\n",
            "\n"
          ]
        }
      ]
    },
    {
      "cell_type": "code",
      "source": [
        "#Now, after Implementing the Main datasets.\n",
        "#We, need to divide it ir further in training and testing phase.\n",
        "#Now, in this, we have to get feature extraction of attributes(data) & labels.\n",
        "X=data.data;\n",
        "print(type(X));\n",
        "print(X.shape);\n",
        "Y=data.target;\n",
        "print(type(Y));\n",
        "print(Y.shape);\n",
        "#Here, X->Represents the values of the Data and Information in the form of the Attributes.\n",
        "#Next, Y->Represents the Values of the Labels for each Datasets Attributes."
      ],
      "metadata": {
        "colab": {
          "base_uri": "https://localhost:8080/"
        },
        "id": "X9bLBpBP6N7D",
        "outputId": "b8824f4a-540c-4876-935e-d62c012b1d85"
      },
      "execution_count": 7,
      "outputs": [
        {
          "output_type": "stream",
          "name": "stdout",
          "text": [
            "<class 'numpy.ndarray'>\n",
            "(1797, 64)\n",
            "<class 'numpy.ndarray'>\n",
            "(1797,)\n"
          ]
        }
      ]
    },
    {
      "cell_type": "code",
      "source": [
        "#Now, we are representing the Values of the datasets data in the form of the Digits.\n",
        "import matplotlib.pyplot as plt;\n",
        "import matplotlib.image as mpimg;\n",
        "import numpy as np;\n",
        "\n",
        "#Visualise the Data Images.\n",
        "image=data.images;\n",
        "y=data.target;\n",
        "print(type(image));\n",
        "print(image.shape);\n",
        "num=1270;\n",
        "sample_im=image[num,:,:];\n",
        "label=y[num];\n",
        "plt.figure(1,figsize=(5,5));\n",
        "plt.imshow(sample_im,cmap=\"gray\");\n",
        "plt.title(\" Actual Target: \"+str(label));\n",
        "plt.axis(\"off\");"
      ],
      "metadata": {
        "colab": {
          "base_uri": "https://localhost:8080/",
          "height": 481
        },
        "id": "b-De-mRP7KDA",
        "outputId": "e9df715e-7adc-48d0-c63d-b5cb8babd91f"
      },
      "execution_count": 10,
      "outputs": [
        {
          "output_type": "stream",
          "name": "stdout",
          "text": [
            "<class 'numpy.ndarray'>\n",
            "(1797, 8, 8)\n"
          ]
        },
        {
          "output_type": "display_data",
          "data": {
            "text/plain": [
              "<Figure size 500x500 with 1 Axes>"
            ],
            "image/png": "[encoded data removed]"
          },
          "metadata": {}
        }
      ]
    },
    {
      "cell_type": "code",
      "source": [
        "#Now, we are just representing the Values of the Data and Information in the form of the Images present in the given Datasets.\n",
        "import matplotlib.pyplot as plt;\n",
        "import matplotlib.image as mpimg;\n",
        "import numpy as np;\n",
        "\n",
        "#Visualise the Given Datasets.\n",
        "image=data.images;\n",
        "y=data.target;\n",
        "print(type(image));\n",
        "print(image.shape);\n",
        "num=1270;\n",
        "sample_im=image[num,: ,:];\n",
        "label=y[num];\n",
        "plt.figure(1,figsize=(5,5));\n",
        "plt.imshow(sample_im,cmap=\"gray\");\n",
        "plt.title(\" Acual Target : \"+str(label));\n",
        "plt.axis(\"off\");\n",
        "plt.show();"
      ],
      "metadata": {
        "colab": {
          "base_uri": "https://localhost:8080/",
          "height": 481
        },
        "id": "boOa9vfM9CC7",
        "outputId": "2f9a8dfd-1b22-4102-9ba7-a18f7c029dce"
      },
      "execution_count": 11,
      "outputs": [
        {
          "output_type": "stream",
          "name": "stdout",
          "text": [
            "<class 'numpy.ndarray'>\n",
            "(1797, 8, 8)\n"
          ]
        },
        {
          "output_type": "display_data",
          "data": {
            "text/plain": [
              "<Figure size 500x500 with 1 Axes>"
            ],
            "image/png": "[encoded data removed]"
          },
          "metadata": {}
        }
      ]
    },
    {
      "cell_type": "markdown",
      "source": [
        "#Task-1\n",
        "--> Solve, the Problem Statement that you need to show the collection of data and infromation in datasets in the form of random numbers and represent it in the form of the 7*7 Matrix randomly form of Representations."
      ],
      "metadata": {
        "id": "pPQmnw68-PwM"
      }
    },
    {
      "cell_type": "code",
      "source": [
        "#First, we need to implement the values of the Libraries.\n",
        "import matplotlib.pyplot as plt;\n",
        "import matplotlib.image as imag;\n",
        "import numpy as np;\n",
        "\n",
        "#Visualising the Values of the Data.\n",
        "images=data.images;\n",
        "y=data.target;\n",
        "print(\"\\n Type of the Images in Datasets: \",type(image));\n",
        "print(\"\\n Total Length of the Images Data are: \",image.shape);\n",
        "\n",
        "#Now, making the 7*7 Matrix to generate the Random Numbers from the datasets and arrange it in the proper manner.\n",
        "for i in range(49):\n",
        "  num=np.random.randint(0,1797);\n",
        "  samples_im=images[num,: ,: ];\n",
        "  label=y[num];\n",
        "  plt.subplot(7,7,i+1);\n",
        "  plt.figure(1,figsize=(8,6));\n",
        "  plt.imshow(samples_im,cmap=\"gray\");\n",
        "  #plt.title(\" Actual Target: \"+str(label));\n",
        "  plt.axis(\"off\");"
      ],
      "metadata": {
        "colab": {
          "base_uri": "https://localhost:8080/",
          "height": 479
        },
        "id": "4yBDeXp_-ACA",
        "outputId": "ce53d23b-6845-46ca-b7cb-57b432022665"
      },
      "execution_count": 24,
      "outputs": [
        {
          "output_type": "stream",
          "name": "stdout",
          "text": [
            "\n",
            " Type of the Images in Datasets:  <class 'numpy.ndarray'>\n",
            "\n",
            " Total Length of the Images Data are:  (1797, 8, 8)\n"
          ]
        },
        {
          "output_type": "display_data",
          "data": {
            "text/plain": [
              "<Figure size 640x480 with 49 Axes>"
            ],
            "image/png": "[encoded data removed]"
          },
          "metadata": {}
        }
      ]
    },
    {
      "cell_type": "code",
      "source": [
        "#Now, we need to show the Values of datasets in the form of random Images.\n",
        "#Importing all the Libraries of it!\n",
        "import matplotlib.pyplot as plt;\n",
        "import matplotlib.image as imag;\n",
        "import numpy as np;\n",
        "\n",
        "#Visualise the Values of the Data.\n",
        "image=data.images;\n",
        "y-data.target;\n",
        "print(\"\\n --> Type of the Image is: \",type(image));\n",
        "print(\"\\n --> Total Length of the Images Data are: \",image.shape);\n",
        "num=1270;\n",
        "sample_im=image[num, : , :];\n",
        "label=y[num];\n",
        "plt.figure(1,figsize=(5,5));\n",
        "plt.imshow(sample_im,cmap=\"gray\");\n",
        "plt.title(\" Actual Target: \\n\"+str(label));\n",
        "plt.axis(\"off\");\n",
        "plt.show();"
      ],
      "metadata": {
        "colab": {
          "base_uri": "https://localhost:8080/",
          "height": 538
        },
        "id": "o4Vf1UIoBpY2",
        "outputId": "942b6703-06c9-4c39-c5cc-3b23179f15be"
      },
      "execution_count": 30,
      "outputs": [
        {
          "output_type": "stream",
          "name": "stdout",
          "text": [
            "\n",
            " --> Type of the Image is:  <class 'numpy.ndarray'>\n",
            "\n",
            " --> Total Length of the Images Data are:  (1797, 8, 8)\n"
          ]
        },
        {
          "output_type": "display_data",
          "data": {
            "text/plain": [
              "<Figure size 500x500 with 1 Axes>"
            ],
            "image/png": "[encoded data removed]"
          },
          "metadata": {}
        }
      ]
    },
    {
      "cell_type": "code",
      "source": [
        "#Now, representing all the data and information in the datasets randomly representation by using the (7*7) Matrix.\n",
        "import matplotlib.pyplot as plt;\n",
        "import matplotlib.image as imag;\n",
        "import numpy as np;\n",
        "\n",
        "#Visualising the values of the Data.\n",
        "image=data.images;\n",
        "y=data.target;\n",
        "print(\"\\n --> Type of the Images present in the Datasets are: \",type(image));\n",
        "print(\"\\n --> Total Length of the Datasets present in Images are: \",image.shape);\n",
        "\n",
        "for i in range(49):\n",
        "  num=np.random.randint(0,1797);\n",
        "  samples_imp=image[num, : , :];\n",
        "  label=y[num];\n",
        "  plt.subplot(7,7,i+1);\n",
        "  plt.figure(1,figsize=(8,6));\n",
        "  #plt.title(\" Actual Target: \"+str(label));\n",
        "  plt.imshow(samples_imp,cmap=\"gray\");\n",
        "  plt.axis(\"off\");\n",
        "\n",
        "#Showing the Values of the main Iamges (7*7) Matrix.\n",
        "plt.show();"
      ],
      "metadata": {
        "colab": {
          "base_uri": "https://localhost:8080/",
          "height": 479
        },
        "id": "ao1Ol1pHC11D",
        "outputId": "37a382b9-61db-45b5-ff0e-3f2015b4a1e7"
      },
      "execution_count": 36,
      "outputs": [
        {
          "output_type": "stream",
          "name": "stdout",
          "text": [
            "\n",
            " --> Type of the Images present in the Datasets are:  <class 'numpy.ndarray'>\n",
            "\n",
            " --> Total Length of the Datasets present in Images are:  (1797, 8, 8)\n"
          ]
        },
        {
          "output_type": "display_data",
          "data": {
            "text/plain": [
              "<Figure size 640x480 with 49 Axes>"
            ],
            "image/png": "[encoded data removed]"
          },
          "metadata": {}
        }
      ]
    },
    {
      "cell_type": "markdown",
      "source": [
        "#Task-2.\n",
        "--> Our Main, Task is to generate all the random numbers but in the ascending order."
      ],
      "metadata": {
        "id": "XNokU-avGYUc"
      }
    },
    {
      "cell_type": "code",
      "source": [
        "#Importing all the Required and needed Libraries.\n",
        "import matplotlib.pyplot as plt  # Fixed import for subplot\n",
        "import matplotlib.image as imag\n",
        "import numpy as np;\n",
        "\n",
        "#Visuaising the Main data values.\n",
        "image=data.images;\n",
        "y=data.target;\n",
        "print(\"\\n --> Type of the Data contained in particular datasets: \",type(image));\n",
        "print(\"\\n --> Total Size of the Image Datasets are: \",image.shape);\n",
        "\n",
        "for i in range(100):\n",
        "  num=np.random.randint(0,1797);\n",
        "  samples_imp=image[num, : , :];\n",
        "  label=y[num];\n",
        "  plt.subplot(10,10,i+1); # Now using plt for subplot\n",
        "  plt.figure(1,figsize=(9,7));\n",
        "  plt.imshow(samples_imp,cmap=\"gray\");\n",
        "  #plt.title(\" Actual Target: \"+str(label));\n",
        "  plt.axis(\"off\");\n",
        "\n",
        "#Showing the Valued Graph given Below!\n",
        "plt.show();"
      ],
      "metadata": {
        "colab": {
          "base_uri": "https://localhost:8080/",
          "height": 479
        },
        "id": "9RtpcNPSEFL0",
        "outputId": "d06628a3-5b92-4fbd-e041-62b3b7068b9b"
      },
      "execution_count": 44,
      "outputs": [
        {
          "output_type": "stream",
          "name": "stdout",
          "text": [
            "\n",
            " --> Type of the Data contained in particular datasets:  <class 'numpy.ndarray'>\n",
            "\n",
            " --> Total Size of the Image Datasets are:  (1797, 8, 8)\n"
          ]
        },
        {
          "output_type": "display_data",
          "data": {
            "text/plain": [
              "<Figure size 640x480 with 100 Axes>"
            ],
            "image/png": "[encoded data removed]"
          },
          "metadata": {}
        }
      ]
    },
    {
      "cell_type": "code",
      "source": [
        "#Importing all the Required and needed Libraries.\n",
        "import matplotlib.pyplot as plt  # Fixed import for subplot\n",
        "import matplotlib.image as imag\n",
        "import numpy as np;\n",
        "\n",
        "#Visuaising the Main data values.\n",
        "image=data.images;\n",
        "y=data.target;\n",
        "print(\"\\n --> Type of the Data contained in particular datasets: \",type(image));\n",
        "print(\"\\n --> Total Size of the Image Datasets are: \",image.shape);\n",
        "\n",
        "# Figure out the index of each digit\n",
        "digit_indices = [np.where(y == i)[0] for i in range(10)]\n",
        "\n",
        "# Plot digits in increasing order\n",
        "fig, axes = plt.subplots(10, 10, figsize=(9, 7))\n",
        "for i in range(10):\n",
        "    for j in range(10):\n",
        "        index = digit_indices[i][j]\n",
        "        axes[i, j].imshow(image[index], cmap=\"gray\")\n",
        "        axes[i, j].axis(\"off\")\n",
        "\n",
        "#Showing the Graph Finally!\n",
        "plt.show()"
      ],
      "metadata": {
        "colab": {
          "base_uri": "https://localhost:8080/",
          "height": 648
        },
        "id": "Piq84OyoJM9v",
        "outputId": "cb987134-1a6a-4910-b9dd-d688b2c1ad18"
      },
      "execution_count": 46,
      "outputs": [
        {
          "output_type": "stream",
          "name": "stdout",
          "text": [
            "\n",
            " --> Type of the Data contained in particular datasets:  <class 'numpy.ndarray'>\n",
            "\n",
            " --> Total Size of the Image Datasets are:  (1797, 8, 8)\n"
          ]
        },
        {
          "output_type": "display_data",
          "data": {
            "text/plain": [
              "<Figure size 900x700 with 100 Axes>"
            ],
            "image/png": "[encoded data removed]"
          },
          "metadata": {}
        }
      ]
    },
    {
      "cell_type": "code",
      "source": [
        "#Now, we have to split the values of the Benchmark.\n",
        "# like: 60:40 Ratio's.\n",
        "# Let's we have the 70:40 Ratio, so it contain 70-Testing, 40-Training.\n",
        "# 80 : 20.\n",
        "ratio=0.3; #Ratio = 0.3 defines that 30% Data split it into the Testing Phase.\n",
        "Xtrain,Xtest,ytrain,ytest=model_selection.train_test_split(X,y,test_size=ratio,random_state=5);\n",
        "print(\"\\n 1. Training Datasets: \",Xtrain.shape,\" \",ytrain.shape);\n",
        "print(\"\\n 2. Testing Datasets: \",Xtest.shape,\"   \",ytest.shape);"
      ],
      "metadata": {
        "colab": {
          "base_uri": "https://localhost:8080/"
        },
        "id": "u2jsYIJ3JhIy",
        "outputId": "5cea6b9d-c2cd-4de8-d2a4-45c0ed9ac4a1"
      },
      "execution_count": 49,
      "outputs": [
        {
          "output_type": "stream",
          "name": "stdout",
          "text": [
            "\n",
            " 1. Training Datasets:  (1257, 64)   (1257,)\n",
            "\n",
            " 2. Testing Datasets:  (540, 64)     (540,)\n"
          ]
        }
      ]
    },
    {
      "cell_type": "markdown",
      "source": [
        "#Creating the Classification Model by using the SVM.\n",
        "#(SVM) Stands for \"Support Vector Machine\"."
      ],
      "metadata": {
        "id": "6XX71Ae1LvTx"
      }
    },
    {
      "cell_type": "code",
      "source": [
        "#Creating the Classification Model by using the SVM.\n",
        "# Support vector Machine (SVM).\n",
        "clf_model=svm.SVC();\n",
        "\n",
        "#We, need to train the Model by using the Training Datasets.\n",
        "clf_model=clf_model.fit(Xtrain,ytrain);\n",
        "\n",
        "#We, need to pass the Trained model in terms of testing.\n",
        "#we, also mention labels of testing data.\n",
        "ypred=clf_model.predict(Xtest);\n",
        "\n",
        "#Showing the Classification of that model.\n",
        "print(ypred.shape);\n",
        "print(ytest.shape);"
      ],
      "metadata": {
        "colab": {
          "base_uri": "https://localhost:8080/"
        },
        "id": "SOTAaidmKz6d",
        "outputId": "347c2af4-4603-4d13-bede-9c0165aae91a"
      },
      "execution_count": 55,
      "outputs": [
        {
          "output_type": "stream",
          "name": "stdout",
          "text": [
            "(540,)\n",
            "(540,)\n"
          ]
        }
      ]
    },
    {
      "cell_type": "code",
      "source": [
        "#Now, we need to measure the overall performance and accuracy in order to measure.\n",
        "\n",
        "acc=metrics.accuracy_score(ypred,ytest);\n",
        "conf_matrix=metrics.confusion_matrix(ypred,ytest);\n",
        "report=metrics.classification_report(ypred,ytest);\n",
        "\n",
        "#=============== Printing and Displaying all the Values! ===============\n",
        "\n",
        "print(\"\\n 1. Total Accuracy of the Model are: \",acc);\n",
        "print(\"\\n-------------------------------------------------------\");\n",
        "\n",
        "print(\"\\n 2. Confusion Matrix given here: \\n\\n\",conf_matrix);\n",
        "print(\"\\n-------------------------------------------------------\");\n",
        "\n",
        "print(\"\\n 3. Classification overall report: \\n\\n\",report);\n",
        "print(\"\\n-------------------------------------------------------\");"
      ],
      "metadata": {
        "colab": {
          "base_uri": "https://localhost:8080/"
        },
        "id": "9fxjnhCXNBJ3",
        "outputId": "f92769fe-2ab2-4b8f-c398-e873f3bcfeb5"
      },
      "execution_count": 57,
      "outputs": [
        {
          "output_type": "stream",
          "name": "stdout",
          "text": [
            "\n",
            " 1. Total Accuracy of the Model are:  0.9851851851851852\n",
            "\n",
            "-------------------------------------------------------\n",
            "\n",
            " 2. Confusion Matrix given here: \n",
            "\n",
            " [[58  0  0  0  0  0  0  0  0  0]\n",
            " [ 0 52  0  0  0  0  0  0  1  0]\n",
            " [ 0  0 58  0  0  0  0  0  0  0]\n",
            " [ 0  0  0 57  0  0  0  0  0  0]\n",
            " [ 0  0  0  0 43  0  0  0  0  0]\n",
            " [ 0  0  0  1  0 63  0  0  0  1]\n",
            " [ 0  0  0  0  0  0 47  0  0  0]\n",
            " [ 0  0  0  0  0  0  0 58  0  0]\n",
            " [ 0  0  0  1  0  0  0  0 48  1]\n",
            " [ 0  0  0  0  0  1  0  1  1 48]]\n",
            "\n",
            "-------------------------------------------------------\n",
            "\n",
            " 3. Classification overall report: \n",
            "\n",
            "               precision    recall  f1-score   support\n",
            "\n",
            "           0       1.00      1.00      1.00        58\n",
            "           1       1.00      0.98      0.99        53\n",
            "           2       1.00      1.00      1.00        58\n",
            "           3       0.97      1.00      0.98        57\n",
            "           4       1.00      1.00      1.00        43\n",
            "           5       0.98      0.97      0.98        65\n",
            "           6       1.00      1.00      1.00        47\n",
            "           7       0.98      1.00      0.99        58\n",
            "           8       0.96      0.96      0.96        50\n",
            "           9       0.96      0.94      0.95        51\n",
            "\n",
            "    accuracy                           0.99       540\n",
            "   macro avg       0.99      0.99      0.99       540\n",
            "weighted avg       0.99      0.99      0.99       540\n",
            "\n",
            "\n",
            "-------------------------------------------------------\n"
          ]
        }
      ]
    },
    {
      "cell_type": "markdown",
      "source": [
        "#Confusion Matrix of that Particular Datasets."
      ],
      "metadata": {
        "id": "wFyhdR2zO21d"
      }
    },
    {
      "cell_type": "code",
      "source": [
        "#We, are showing the Values of the Confusion Matrix are given Below!\n",
        "import seaborn as sns;\n",
        "sns.heatmap(conf_matrix,annot=True,cmap='jet');\n",
        "plt.title(\" Confusion Matrix showing the Digit Datasets!\");\n",
        "plt.show();"
      ],
      "metadata": {
        "colab": {
          "base_uri": "https://localhost:8080/",
          "height": 452
        },
        "id": "YK_jahEFO1Ei",
        "outputId": "a347e2ad-1094-472f-f293-f3df440add93"
      },
      "execution_count": 59,
      "outputs": [
        {
          "output_type": "display_data",
          "data": {
            "text/plain": [
              "<Figure size 640x480 with 2 Axes>"
            ],
            "image/png": "[encoded data removed]"
          },
          "metadata": {}
        }
      ]
    },
    {
      "cell_type": "markdown",
      "source": [
        "#Task-4\n",
        "--> 1. Load the iris Data-Sets.\n",
        "\n",
        "--> 2. Understand the Dataset and describe by 'DESCR'.\n",
        "\n",
        "--> 3. And Implement the 70:30 & 60:40 Train Test Split.\n",
        "\n",
        "--> 4. And Compare it's Accuracy, Precision, Reacll & F1-Score.\n",
        "\n",
        "--> 5. For, Each Split."
      ],
      "metadata": {
        "id": "aDXlbqnYPdaJ"
      }
    },
    {
      "cell_type": "code",
      "source": [
        "#Now, we are the the Iris-Datasets.\n",
        "from sklearn import datasets;\n",
        "from sklearn import svm;\n",
        "from sklearn import model_selection;\n",
        "from sklearn import metrics;\n",
        "\n",
        "#Visualise and load the Datasets Simply!\n",
        "data=datasets.load_iris();\n",
        "print(type(data));"
      ],
      "metadata": {
        "colab": {
          "base_uri": "https://localhost:8080/"
        },
        "id": "UTA18dh9UIHh",
        "outputId": "231491ed-dc86-4356-a057-ad8311302041"
      },
      "execution_count": 62,
      "outputs": [
        {
          "output_type": "stream",
          "name": "stdout",
          "text": [
            "<class 'sklearn.utils._bunch.Bunch'>\n"
          ]
        }
      ]
    },
    {
      "cell_type": "code",
      "source": [
        "#Now, we have to show the Values of the Data.\n",
        "print(\"\\n 1. Given Iris Datasets after Loading properly Given Below! : \\n\\n\",data);\n",
        "#print(\"\\n 2. Total Length of the Iris-Datasets are: \",data.shape);"
      ],
      "metadata": {
        "colab": {
          "base_uri": "https://localhost:8080/"
        },
        "id": "v45AbXpTUp-g",
        "outputId": "9179c025-069b-4720-e5d1-c4650bdf9333"
      },
      "execution_count": 64,
      "outputs": [
        {
          "output_type": "stream",
          "name": "stdout",
          "text": [
            "\n",
            " 1. Given Iris Datasets after Loading properly Given Below! : \n",
            "\n",
            " {'data': array([[5.1, 3.5, 1.4, 0.2],\n",
            "       [4.9, 3. , 1.4, 0.2],\n",
            "       [4.7, 3.2, 1.3, 0.2],\n",
            "       [4.6, 3.1, 1.5, 0.2],\n",
            "       [5. , 3.6, 1.4, 0.2],\n",
            "       [5.4, 3.9, 1.7, 0.4],\n",
            "       [4.6, 3.4, 1.4, 0.3],\n",
            "       [5. , 3.4, 1.5, 0.2],\n",
            "       [4.4, 2.9, 1.4, 0.2],\n",
            "       [4.9, 3.1, 1.5, 0.1],\n",
            "       [5.4, 3.7, 1.5, 0.2],\n",
            "       [4.8, 3.4, 1.6, 0.2],\n",
            "       [4.8, 3. , 1.4, 0.1],\n",
            "       [4.3, 3. , 1.1, 0.1],\n",
            "       [5.8, 4. , 1.2, 0.2],\n",
            "       [5.7, 4.4, 1.5, 0.4],\n",
            "       [5.4, 3.9, 1.3, 0.4],\n",
            "       [5.1, 3.5, 1.4, 0.3],\n",
            "       [5.7, 3.8, 1.7, 0.3],\n",
            "       [5.1, 3.8, 1.5, 0.3],\n",
            "       [5.4, 3.4, 1.7, 0.2],\n",
            "       [5.1, 3.7, 1.5, 0.4],\n",
            "       [4.6, 3.6, 1. , 0.2],\n",
            "       [5.1, 3.3, 1.7, 0.5],\n",
            "       [4.8, 3.4, 1.9, 0.2],\n",
            "       [5. , 3. , 1.6, 0.2],\n",
            "       [5. , 3.4, 1.6, 0.4],\n",
            "       [5.2, 3.5, 1.5, 0.2],\n",
            "       [5.2, 3.4, 1.4, 0.2],\n",
            "       [4.7, 3.2, 1.6, 0.2],\n",
            "       [4.8, 3.1, 1.6, 0.2],\n",
            "       [5.4, 3.4, 1.5, 0.4],\n",
            "       [5.2, 4.1, 1.5, 0.1],\n",
            "       [5.5, 4.2, 1.4, 0.2],\n",
            "       [4.9, 3.1, 1.5, 0.2],\n",
            "       [5. , 3.2, 1.2, 0.2],\n",
            "       [5.5, 3.5, 1.3, 0.2],\n",
            "       [4.9, 3.6, 1.4, 0.1],\n",
            "       [4.4, 3. , 1.3, 0.2],\n",
            "       [5.1, 3.4, 1.5, 0.2],\n",
            "       [5. , 3.5, 1.3, 0.3],\n",
            "       [4.5, 2.3, 1.3, 0.3],\n",
            "       [4.4, 3.2, 1.3, 0.2],\n",
            "       [5. , 3.5, 1.6, 0.6],\n",
            "       [5.1, 3.8, 1.9, 0.4],\n",
            "       [4.8, 3. , 1.4, 0.3],\n",
            "       [5.1, 3.8, 1.6, 0.2],\n",
            "       [4.6, 3.2, 1.4, 0.2],\n",
            "       [5.3, 3.7, 1.5, 0.2],\n",
            "       [5. , 3.3, 1.4, 0.2],\n",
            "       [7. , 3.2, 4.7, 1.4],\n",
            "       [6.4, 3.2, 4.5, 1.5],\n",
            "       [6.9, 3.1, 4.9, 1.5],\n",
            "       [5.5, 2.3, 4. , 1.3],\n",
            "       [6.5, 2.8, 4.6, 1.5],\n",
            "       [5.7, 2.8, 4.5, 1.3],\n",
            "       [6.3, 3.3, 4.7, 1.6],\n",
            "       [4.9, 2.4, 3.3, 1. ],\n",
            "       [6.6, 2.9, 4.6, 1.3],\n",
            "       [5.2, 2.7, 3.9, 1.4],\n",
            "       [5. , 2. , 3.5, 1. ],\n",
            "       [5.9, 3. , 4.2, 1.5],\n",
            "       [6. , 2.2, 4. , 1. ],\n",
            "       [6.1, 2.9, 4.7, 1.4],\n",
            "       [5.6, 2.9, 3.6, 1.3],\n",
            "       [6.7, 3.1, 4.4, 1.4],\n",
            "       [5.6, 3. , 4.5, 1.5],\n",
            "       [5.8, 2.7, 4.1, 1. ],\n",
            "       [6.2, 2.2, 4.5, 1.5],\n",
            "       [5.6, 2.5, 3.9, 1.1],\n",
            "       [5.9, 3.2, 4.8, 1.8],\n",
            "       [6.1, 2.8, 4. , 1.3],\n",
            "       [6.3, 2.5, 4.9, 1.5],\n",
            "       [6.1, 2.8, 4.7, 1.2],\n",
            "       [6.4, 2.9, 4.3, 1.3],\n",
            "       [6.6, 3. , 4.4, 1.4],\n",
            "       [6.8, 2.8, 4.8, 1.4],\n",
            "       [6.7, 3. , 5. , 1.7],\n",
            "       [6. , 2.9, 4.5, 1.5],\n",
            "       [5.7, 2.6, 3.5, 1. ],\n",
            "       [5.5, 2.4, 3.8, 1.1],\n",
            "       [5.5, 2.4, 3.7, 1. ],\n",
            "       [5.8, 2.7, 3.9, 1.2],\n",
            "       [6. , 2.7, 5.1, 1.6],\n",
            "       [5.4, 3. , 4.5, 1.5],\n",
            "       [6. , 3.4, 4.5, 1.6],\n",
            "       [6.7, 3.1, 4.7, 1.5],\n",
            "       [6.3, 2.3, 4.4, 1.3],\n",
            "       [5.6, 3. , 4.1, 1.3],\n",
            "       [5.5, 2.5, 4. , 1.3],\n",
            "       [5.5, 2.6, 4.4, 1.2],\n",
            "       [6.1, 3. , 4.6, 1.4],\n",
            "       [5.8, 2.6, 4. , 1.2],\n",
            "       [5. , 2.3, 3.3, 1. ],\n",
            "       [5.6, 2.7, 4.2, 1.3],\n",
            "       [5.7, 3. , 4.2, 1.2],\n",
            "       [5.7, 2.9, 4.2, 1.3],\n",
            "       [6.2, 2.9, 4.3, 1.3],\n",
            "       [5.1, 2.5, 3. , 1.1],\n",
            "       [5.7, 2.8, 4.1, 1.3],\n",
            "       [6.3, 3.3, 6. , 2.5],\n",
            "       [5.8, 2.7, 5.1, 1.9],\n",
            "       [7.1, 3. , 5.9, 2.1],\n",
            "       [6.3, 2.9, 5.6, 1.8],\n",
            "       [6.5, 3. , 5.8, 2.2],\n",
            "       [7.6, 3. , 6.6, 2.1],\n",
            "       [4.9, 2.5, 4.5, 1.7],\n",
            "       [7.3, 2.9, 6.3, 1.8],\n",
            "       [6.7, 2.5, 5.8, 1.8],\n",
            "       [7.2, 3.6, 6.1, 2.5],\n",
            "       [6.5, 3.2, 5.1, 2. ],\n",
            "       [6.4, 2.7, 5.3, 1.9],\n",
            "       [6.8, 3. , 5.5, 2.1],\n",
            "       [5.7, 2.5, 5. , 2. ],\n",
            "       [5.8, 2.8, 5.1, 2.4],\n",
            "       [6.4, 3.2, 5.3, 2.3],\n",
            "       [6.5, 3. , 5.5, 1.8],\n",
            "       [7.7, 3.8, 6.7, 2.2],\n",
            "       [7.7, 2.6, 6.9, 2.3],\n",
            "       [6. , 2.2, 5. , 1.5],\n",
            "       [6.9, 3.2, 5.7, 2.3],\n",
            "       [5.6, 2.8, 4.9, 2. ],\n",
            "       [7.7, 2.8, 6.7, 2. ],\n",
            "       [6.3, 2.7, 4.9, 1.8],\n",
            "       [6.7, 3.3, 5.7, 2.1],\n",
            "       [7.2, 3.2, 6. , 1.8],\n",
            "       [6.2, 2.8, 4.8, 1.8],\n",
            "       [6.1, 3. , 4.9, 1.8],\n",
            "       [6.4, 2.8, 5.6, 2.1],\n",
            "       [7.2, 3. , 5.8, 1.6],\n",
            "       [7.4, 2.8, 6.1, 1.9],\n",
            "       [7.9, 3.8, 6.4, 2. ],\n",
            "       [6.4, 2.8, 5.6, 2.2],\n",
            "       [6.3, 2.8, 5.1, 1.5],\n",
            "       [6.1, 2.6, 5.6, 1.4],\n",
            "       [7.7, 3. , 6.1, 2.3],\n",
            "       [6.3, 3.4, 5.6, 2.4],\n",
            "       [6.4, 3.1, 5.5, 1.8],\n",
            "       [6. , 3. , 4.8, 1.8],\n",
            "       [6.9, 3.1, 5.4, 2.1],\n",
            "       [6.7, 3.1, 5.6, 2.4],\n",
            "       [6.9, 3.1, 5.1, 2.3],\n",
            "       [5.8, 2.7, 5.1, 1.9],\n",
            "       [6.8, 3.2, 5.9, 2.3],\n",
            "       [6.7, 3.3, 5.7, 2.5],\n",
            "       [6.7, 3. , 5.2, 2.3],\n",
            "       [6.3, 2.5, 5. , 1.9],\n",
            "       [6.5, 3. , 5.2, 2. ],\n",
            "       [6.2, 3.4, 5.4, 2.3],\n",
            "       [5.9, 3. , 5.1, 1.8]]), 'target': array([0, 0, 0, 0, 0, 0, 0, 0, 0, 0, 0, 0, 0, 0, 0, 0, 0, 0, 0, 0, 0, 0,\n",
            "       0, 0, 0, 0, 0, 0, 0, 0, 0, 0, 0, 0, 0, 0, 0, 0, 0, 0, 0, 0, 0, 0,\n",
            "       0, 0, 0, 0, 0, 0, 1, 1, 1, 1, 1, 1, 1, 1, 1, 1, 1, 1, 1, 1, 1, 1,\n",
            "       1, 1, 1, 1, 1, 1, 1, 1, 1, 1, 1, 1, 1, 1, 1, 1, 1, 1, 1, 1, 1, 1,\n",
            "       1, 1, 1, 1, 1, 1, 1, 1, 1, 1, 1, 1, 2, 2, 2, 2, 2, 2, 2, 2, 2, 2,\n",
            "       2, 2, 2, 2, 2, 2, 2, 2, 2, 2, 2, 2, 2, 2, 2, 2, 2, 2, 2, 2, 2, 2,\n",
            "       2, 2, 2, 2, 2, 2, 2, 2, 2, 2, 2, 2, 2, 2, 2, 2, 2, 2]), 'frame': None, 'target_names': array(['setosa', 'versicolor', 'virginica'], dtype='<U10'), 'DESCR': '.. _iris_dataset:\\n\\nIris plants dataset\\n--------------------\\n\\n**Data Set Characteristics:**\\n\\n    :Number of Instances: 150 (50 in each of three classes)\\n    :Number of Attributes: 4 numeric, predictive attributes and the class\\n    :Attribute Information:\\n        - sepal length in cm\\n        - sepal width in cm\\n        - petal length in cm\\n        - petal width in cm\\n        - class:\\n                - Iris-Setosa\\n                - Iris-Versicolour\\n                - Iris-Virginica\\n                \\n    :Summary Statistics:\\n\\n    ============== ==== ==== ======= ===== ====================\\n                    Min  Max   Mean    SD   Class Correlation\\n    ============== ==== ==== ======= ===== ====================\\n    sepal length:   4.3  7.9   5.84   0.83    0.7826\\n    sepal width:    2.0  4.4   3.05   0.43   -0.4194\\n    petal length:   1.0  6.9   3.76   1.76    0.9490  (high!)\\n    petal width:    0.1  2.5   1.20   0.76    0.9565  (high!)\\n    ============== ==== ==== ======= ===== ====================\\n\\n    :Missing Attribute Values: None\\n    :Class Distribution: 33.3% for each of 3 classes.\\n    :Creator: R.A. Fisher\\n    :Donor: Michael Marshall (MARSHALL%PLU@io.arc.nasa.gov)\\n    :Date: July, 1988\\n\\nThe famous Iris database, first used by Sir R.A. Fisher. The dataset is taken\\nfrom Fisher\\'s paper. Note that it\\'s the same as in R, but not as in the UCI\\nMachine Learning Repository, which has two wrong data points.\\n\\nThis is perhaps the best known database to be found in the\\npattern recognition literature.  Fisher\\'s paper is a classic in the field and\\nis referenced frequently to this day.  (See Duda & Hart, for example.)  The\\ndata set contains 3 classes of 50 instances each, where each class refers to a\\ntype of iris plant.  One class is linearly separable from the other 2; the\\nlatter are NOT linearly separable from each other.\\n\\n.. topic:: References\\n\\n   - Fisher, R.A. \"The use of multiple measurements in taxonomic problems\"\\n     Annual Eugenics, 7, Part II, 179-188 (1936); also in \"Contributions to\\n     Mathematical Statistics\" (John Wiley, NY, 1950).\\n   - Duda, R.O., & Hart, P.E. (1973) Pattern Classification and Scene Analysis.\\n     (Q327.D83) John Wiley & Sons.  ISBN 0-471-22361-1.  See page 218.\\n   - Dasarathy, B.V. (1980) \"Nosing Around the Neighborhood: A New System\\n     Structure and Classification Rule for Recognition in Partially Exposed\\n     Environments\".  IEEE Transactions on Pattern Analysis and Machine\\n     Intelligence, Vol. PAMI-2, No. 1, 67-71.\\n   - Gates, G.W. (1972) \"The Reduced Nearest Neighbor Rule\".  IEEE Transactions\\n     on Information Theory, May 1972, 431-433.\\n   - See also: 1988 MLC Proceedings, 54-64.  Cheeseman et al\"s AUTOCLASS II\\n     conceptual clustering system finds 3 classes in the data.\\n   - Many, many more ...', 'feature_names': ['sepal length (cm)', 'sepal width (cm)', 'petal length (cm)', 'petal width (cm)'], 'filename': 'iris.csv', 'data_module': 'sklearn.datasets.data'}\n"
          ]
        }
      ]
    },
    {
      "cell_type": "code",
      "source": [
        "#Understand the Dataset and describe by 'DESCR'.\n",
        "#Describing the Datasets are by using the DESCR.\n",
        "print(data.DESCR);"
      ],
      "metadata": {
        "colab": {
          "base_uri": "https://localhost:8080/"
        },
        "id": "ftEtMpiaVCSa",
        "outputId": "2e427d27-93d7-42b9-e7d8-a1b186ace42b"
      },
      "execution_count": 65,
      "outputs": [
        {
          "output_type": "stream",
          "name": "stdout",
          "text": [
            ".. _iris_dataset:\n",
            "\n",
            "Iris plants dataset\n",
            "--------------------\n",
            "\n",
            "**Data Set Characteristics:**\n",
            "\n",
            "    :Number of Instances: 150 (50 in each of three classes)\n",
            "    :Number of Attributes: 4 numeric, predictive attributes and the class\n",
            "    :Attribute Information:\n",
            "        - sepal length in cm\n",
            "        - sepal width in cm\n",
            "        - petal length in cm\n",
            "        - petal width in cm\n",
            "        - class:\n",
            "                - Iris-Setosa\n",
            "                - Iris-Versicolour\n",
            "                - Iris-Virginica\n",
            "                \n",
            "    :Summary Statistics:\n",
            "\n",
            "    ============== ==== ==== ======= ===== ====================\n",
            "                    Min  Max   Mean    SD   Class Correlation\n",
            "    ============== ==== ==== ======= ===== ====================\n",
            "    sepal length:   4.3  7.9   5.84   0.83    0.7826\n",
            "    sepal width:    2.0  4.4   3.05   0.43   -0.4194\n",
            "    petal length:   1.0  6.9   3.76   1.76    0.9490  (high!)\n",
            "    petal width:    0.1  2.5   1.20   0.76    0.9565  (high!)\n",
            "    ============== ==== ==== ======= ===== ====================\n",
            "\n",
            "    :Missing Attribute Values: None\n",
            "    :Class Distribution: 33.3% for each of 3 classes.\n",
            "    :Creator: R.A. Fisher\n",
            "    :Donor: Michael Marshall (MARSHALL%PLU@io.arc.nasa.gov)\n",
            "    :Date: July, 1988\n",
            "\n",
            "The famous Iris database, first used by Sir R.A. Fisher. The dataset is taken\n",
            "from Fisher's paper. Note that it's the same as in R, but not as in the UCI\n",
            "Machine Learning Repository, which has two wrong data points.\n",
            "\n",
            "This is perhaps the best known database to be found in the\n",
            "pattern recognition literature.  Fisher's paper is a classic in the field and\n",
            "is referenced frequently to this day.  (See Duda & Hart, for example.)  The\n",
            "data set contains 3 classes of 50 instances each, where each class refers to a\n",
            "type of iris plant.  One class is linearly separable from the other 2; the\n",
            "latter are NOT linearly separable from each other.\n",
            "\n",
            ".. topic:: References\n",
            "\n",
            "   - Fisher, R.A. \"The use of multiple measurements in taxonomic problems\"\n",
            "     Annual Eugenics, 7, Part II, 179-188 (1936); also in \"Contributions to\n",
            "     Mathematical Statistics\" (John Wiley, NY, 1950).\n",
            "   - Duda, R.O., & Hart, P.E. (1973) Pattern Classification and Scene Analysis.\n",
            "     (Q327.D83) John Wiley & Sons.  ISBN 0-471-22361-1.  See page 218.\n",
            "   - Dasarathy, B.V. (1980) \"Nosing Around the Neighborhood: A New System\n",
            "     Structure and Classification Rule for Recognition in Partially Exposed\n",
            "     Environments\".  IEEE Transactions on Pattern Analysis and Machine\n",
            "     Intelligence, Vol. PAMI-2, No. 1, 67-71.\n",
            "   - Gates, G.W. (1972) \"The Reduced Nearest Neighbor Rule\".  IEEE Transactions\n",
            "     on Information Theory, May 1972, 431-433.\n",
            "   - See also: 1988 MLC Proceedings, 54-64.  Cheeseman et al\"s AUTOCLASS II\n",
            "     conceptual clustering system finds 3 classes in the data.\n",
            "   - Many, many more ...\n"
          ]
        }
      ]
    },
    {
      "cell_type": "code",
      "source": [
        "#Now, we splitting the Datasets into ration of Testing and Training Phases.\n",
        "ratio=0.3;\n",
        "Xtest,Xtrain,ytest,ytrain=model_selection.train_test_split(X,y,test_size=ratio,random_state=5);\n",
        "print(\"\\n 1. Training Datasets: \",Xtrain.shape,\" \",ytrain.shape);\n",
        "print(\"\\n 2. Testing Datasets: \",Xtest.shape,\"   \",ytest.shape);"
      ],
      "metadata": {
        "colab": {
          "base_uri": "https://localhost:8080/"
        },
        "id": "aB594oPlWP1l",
        "outputId": "7f909076-7aa4-448e-b16c-ca43f387b5e7"
      },
      "execution_count": 67,
      "outputs": [
        {
          "output_type": "stream",
          "name": "stdout",
          "text": [
            "\n",
            " 1. Training Datasets:  (540, 64)   (540,)\n",
            "\n",
            " 2. Testing Datasets:  (1257, 64)     (1257,)\n"
          ]
        }
      ]
    },
    {
      "cell_type": "code",
      "source": [
        "#Now, we need to train the Modelby using the SVM.\n",
        "#SUPORT VECTOR MACHINE - (SVM) generally used for classification of the Models.\n",
        "clf_model=svm.SVC();\n",
        "\n",
        "#Train the Model in terms of training.\n",
        "clf_model=clf_model.fit(Xtrain,ytrain);\n",
        "\n",
        "#Now, mention the labels in testing for classifications.\n",
        "#Now, we used to predict by the trained model.\n",
        "ypred=clf_model.predict(Xtest);\n",
        "\n",
        "#Showing the Actual Label and predicted Labels.\n",
        "print(\"\\n Predicted Values: \",ypred.shape);\n",
        "print(\"\\n Testing Values: \",ytest.shape);"
      ],
      "metadata": {
        "colab": {
          "base_uri": "https://localhost:8080/"
        },
        "id": "tgQkHHbJW4X_",
        "outputId": "02348e2f-2273-4f06-be0c-2eb945bf80ea"
      },
      "execution_count": 69,
      "outputs": [
        {
          "output_type": "stream",
          "name": "stdout",
          "text": [
            "\n",
            " Predicted Values:  (1257,)\n",
            "\n",
            " Testing Values:  (1257,)\n"
          ]
        }
      ]
    },
    {
      "cell_type": "code",
      "source": [
        "#Now, we need to compare it's valius of the Accuracy, Precision, and it's F1-Score.\n",
        "\n",
        "acc=metrics.accuracy_score(ypred,ytest);\n",
        "confu_matrix=metrics.confusion_matrix(ypred,ytest);\n",
        "report=metrics.classification_report(ypred,ytest);\n",
        "\n",
        "#Printing and Displaying all the Values in the Iris Classifications are given Below!\n",
        "\n",
        "print(\"\\n---------------------- IRIS DATASETS PERFORMANCE ----------------------\");\n",
        "\n",
        "print(\"\\n 1. Total Accuracy are: \",acc);\n",
        "print(\"\\n---------------------------------------------------------\");\n",
        "\n",
        "print(\"\\n 2. Confusion Matrix are Given Below! \\n\\n\",confu_matrix);\n",
        "print(\"\\n---------------------------------------------------------\");\n",
        "\n",
        "print(\"\\n 3. Classification Report have been given Below! \\n\\n\",report);\n",
        "print(\"\\n---------------------------------------------------------\");"
      ],
      "metadata": {
        "colab": {
          "base_uri": "https://localhost:8080/"
        },
        "id": "HqJc5mhcX_Gt",
        "outputId": "a841d1f0-0068-4f59-b57d-ea7409574370"
      },
      "execution_count": 72,
      "outputs": [
        {
          "output_type": "stream",
          "name": "stdout",
          "text": [
            "\n",
            "---------------------- IRIS DATASETS PERFORMANCE ----------------------\n",
            "\n",
            " 1. Total Accuracy are:  0.964200477326969\n",
            "\n",
            "---------------------------------------------------------\n",
            "\n",
            " 2. Confusion Matrix are Given Below! \n",
            "\n",
            " [[120   0   0   0   1   0   2   0   0   0]\n",
            " [  0 130   0   0   1   0   1   0   4   6]\n",
            " [  0   0 118   0   0   0   0   0   0   0]\n",
            " [  0   0   1 117   0   1   0   0   0   3]\n",
            " [  0   0   0   0 133   0   0   0   1   4]\n",
            " [  0   0   0   1   0 114   0   0   2   0]\n",
            " [  0   0   0   0   0   1 131   0   1   0]\n",
            " [  0   0   0   5   1   0   0 120   2   2]\n",
            " [  0   0   0   1   2   0   0   0 114   0]\n",
            " [  0   0   0   0   0   2   0   0   0 115]]\n",
            "\n",
            "---------------------------------------------------------\n",
            "\n",
            " 3. Classification Report have been given Below! \n",
            "\n",
            "               precision    recall  f1-score   support\n",
            "\n",
            "           0       1.00      0.98      0.99       123\n",
            "           1       1.00      0.92      0.96       142\n",
            "           2       0.99      1.00      1.00       118\n",
            "           3       0.94      0.96      0.95       122\n",
            "           4       0.96      0.96      0.96       138\n",
            "           5       0.97      0.97      0.97       117\n",
            "           6       0.98      0.98      0.98       133\n",
            "           7       1.00      0.92      0.96       130\n",
            "           8       0.92      0.97      0.95       117\n",
            "           9       0.88      0.98      0.93       117\n",
            "\n",
            "    accuracy                           0.96      1257\n",
            "   macro avg       0.96      0.97      0.96      1257\n",
            "weighted avg       0.97      0.96      0.96      1257\n",
            "\n",
            "\n",
            "---------------------------------------------------------\n"
          ]
        }
      ]
    },
    {
      "cell_type": "code",
      "source": [
        "# We, also show the values of the Confusion Matrix.\n",
        "import seaborn as sns;\n",
        "import matplotlib.pyplot as plt;\n",
        "\n",
        "sns.heatmap(confu_matrix,annot=True,cmap=\"jet\");\n",
        "plt.title(\"Iris Recognization Datasets with Labels!\");\n",
        "\n",
        "#Showing the finall plotting of the Graph.\n",
        "plt.figure(1,figsize=(10,8));\n",
        "plt.show();"
      ],
      "metadata": {
        "colab": {
          "base_uri": "https://localhost:8080/",
          "height": 452
        },
        "id": "QVS7DRVqZaEl",
        "outputId": "62a08ea3-bd13-49b6-c571-75da9df5226e"
      },
      "execution_count": 78,
      "outputs": [
        {
          "output_type": "display_data",
          "data": {
            "text/plain": [
              "<Figure size 640x480 with 2 Axes>"
            ],
            "image/png": "[encoded data removed]"
          },
          "metadata": {}
        }
      ]
    },
    {
      "cell_type": "code",
      "source": [
        "# load the iris dataset\n",
        "# understand the datset from its DESCR\n",
        "# and implement the 60:40 and 70:30 ratio train test split\n",
        "# and compare its acc, precision, recall and f1_score\n",
        "# for each split\n",
        "\n",
        "from sklearn import metrics,datasets,model_selection,svm\n",
        "data = datasets.load_iris()\n",
        "\n",
        "X = data.data\n",
        "y = data.target\n",
        "Result = np.zeros((2,4))\n",
        "ratio= [0.4,0.3]\n",
        "for i in range(len(ratio)):\n",
        "  Xtrain,Xtest,ytrain,ytest = model_selection.train_test_split(X,y,test_size=ratio[i],random_state=5)\n",
        "  # create the model\n",
        "  clf_model = svm.SVC()\n",
        "  # train the model\n",
        "  clf_model = clf_model.fit(Xtrain,ytrain)\n",
        "  # test the model\n",
        "  ypred = clf_model.predict(Xtest)\n",
        "\n",
        "  # accuracy\n",
        "  temp_acc = metrics.accuracy_score(ypred,ytest)\n",
        "  # precision\n",
        "  temp_pre = metrics.precision_score(ypred,ytest,average='macro')\n",
        "  # recall\n",
        "  temp_rec = metrics.recall_score(ypred,ytest,average='macro')\n",
        "  # f1 score\n",
        "  temp_f1 = metrics.f1_score(ypred,ytest,average='macro')\n",
        "\n",
        "  list_result = [temp_acc,temp_pre,temp_rec,temp_f1]\n",
        "  Result[i,:]=list_result\n",
        "\n",
        "print(Result)\n",
        "res = ['Accuracy','Precision','Recall','F1_score']\n",
        "\n",
        "import pandas as pd\n",
        "res_df = pd.DataFrame(Result,columns=res,index=['60:40','70:30'])\n",
        "print(res_df)"
      ],
      "metadata": {
        "colab": {
          "base_uri": "https://localhost:8080/"
        },
        "id": "nhfbK9YLaSjV",
        "outputId": "ddbefdaf-c5a5-4086-cdd1-1de02989f6ca"
      },
      "execution_count": 79,
      "outputs": [
        {
          "output_type": "stream",
          "name": "stdout",
          "text": [
            "[[0.98333333 0.98412698 0.98333333 0.98332291]\n",
            " [0.97777778 0.97916667 0.97777778 0.97775306]]\n",
            "       Accuracy  Precision    Recall  F1_score\n",
            "60:40  0.983333   0.984127  0.983333  0.983323\n",
            "70:30  0.977778   0.979167  0.977778  0.977753\n"
          ]
        }
      ]
    },
    {
      "cell_type": "code",
      "source": [
        "res_df.T.plot(kind = 'bar')"
      ],
      "metadata": {
        "colab": {
          "base_uri": "https://localhost:8080/",
          "height": 497
        },
        "id": "VaIcEQsNaVn6",
        "outputId": "1d1d25d1-5603-4195-8cb3-144d638ee17f"
      },
      "execution_count": 80,
      "outputs": [
        {
          "output_type": "execute_result",
          "data": {
            "text/plain": [
              "<Axes: >"
            ]
          },
          "metadata": {},
          "execution_count": 80
        },
        {
          "output_type": "display_data",
          "data": {
            "text/plain": [
              "<Figure size 640x480 with 1 Axes>"
            ],
            "image/png": "[encoded data removed]"
          },
          "metadata": {}
        }
      ]
    },
    {
      "cell_type": "markdown",
      "source": [
        "#----Here,isthe END OF DAY-5 Based on SupervisedLearning.----\n",
        "#========================== DAY-5 ==========================="
      ],
      "metadata": {
        "id": "ht6ZYzcsahhk"
      }
    }
  ]
}