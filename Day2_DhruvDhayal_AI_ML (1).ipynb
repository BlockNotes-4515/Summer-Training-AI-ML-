{
  "nbformat": 4,
  "nbformat_minor": 0,
  "metadata": {
    "colab": {
      "provenance": []
    },
    "kernelspec": {
      "name": "python3",
      "display_name": "Python 3"
    },
    "language_info": {
      "name": "python"
    }
  },
  "cells": [
    {
      "cell_type": "code",
      "execution_count": null,
      "metadata": {
        "colab": {
          "base_uri": "https://localhost:8080/"
        },
        "id": "uXEGKWVcuXxH",
        "outputId": "9d3fa637-4314-41d0-84d3-b937dce0ad1d"
      },
      "outputs": [
        {
          "output_type": "stream",
          "name": "stdout",
          "text": [
            "[[45 24 48 26 19]\n",
            " [18 46 49 37 40]\n",
            " [26 17 22 25 49]]\n"
          ]
        }
      ],
      "source": [
        "#Functions in the Numpy Array.\n",
        "import numpy as np;\n",
        "np.random.seed(5);\n",
        "num=np.random.randint(10,50,size=(3,5));\n",
        "print(num);"
      ]
    },
    {
      "cell_type": "code",
      "source": [
        "print(num[1:3,2:5]);"
      ],
      "metadata": {
        "colab": {
          "base_uri": "https://localhost:8080/"
        },
        "id": "U1sPB8q946hu",
        "outputId": "81dda3a6-ad55-4138-ac5c-10fa28ef00c7"
      },
      "execution_count": null,
      "outputs": [
        {
          "output_type": "stream",
          "name": "stdout",
          "text": [
            "[[49 37 40]\n",
            " [22 25 49]]\n"
          ]
        }
      ]
    },
    {
      "cell_type": "code",
      "source": [
        "print(num[:2,:2]);\n",
        "print(\"\\n Total sum is: \",num.sum()); # Also, we also perform different types of operations of it!"
      ],
      "metadata": {
        "colab": {
          "base_uri": "https://localhost:8080/"
        },
        "id": "ooPb82g85rLM",
        "outputId": "6a7a2c3c-0741-40a0-9300-40182491b507"
      },
      "execution_count": null,
      "outputs": [
        {
          "output_type": "stream",
          "name": "stdout",
          "text": [
            "[[45 24]\n",
            " [18 46]]\n",
            "\n",
            " Total sum is:  491\n"
          ]
        }
      ]
    },
    {
      "cell_type": "code",
      "source": [
        "#Write a Program to create a AutoThreshold Algorithm.\n",
        "# 1. Create a (9*9) Matrix within the range of (0-100).\n",
        "# 2. Find the average of each row and save it in the B-Lists(1*9).\n",
        "# (Steps-2) => B=[B0,B,B2,B3,B4B5,B6,B7,B8];\n",
        "# 3. Now, compare the elements of each row its respective mean , if mean value is greater than the element , then leave the element as it is! else: make it 0.\n",
        "# Create a New matrix  C to hold the updated results.\n",
        "# 4. Count the number of zeros and non-zeros elememnts, wjhich should be equal to the Number of elements in a Matrix.\n",
        "\n",
        "#Performing the 1st - Step.\n",
        "import numpy as np;\n",
        "np.random.seed(5);\n",
        "val1=np.random.randint(0,100,size=(9,9));\n",
        "print(\"\\n Matrix Given is: \",val);"
      ],
      "metadata": {
        "colab": {
          "base_uri": "https://localhost:8080/"
        },
        "id": "U15tVAQN6nSZ",
        "outputId": "a024020f-5217-4292-b7d0-d81ce0459abe"
      },
      "execution_count": null,
      "outputs": [
        {
          "output_type": "stream",
          "name": "stdout",
          "text": [
            "\n",
            " Matrix Given is:  [[45 24 48 26 19 18 46 49 37]\n",
            " [40 26 17 22 25 49 26 37 23]\n",
            " [21 11 40 30 32 28 19 11 28]\n",
            " [49 26 24 15 10 26 14 46 37]\n",
            " [41 12 14 48 29 29 28 17 46]\n",
            " [40 21 13 11 13 37 24 37 39]\n",
            " [43 35 31 17 26 40 24 36 41]\n",
            " [19 48 26 15 44 34 23 41 42]\n",
            " [22 15 24 40 28 10 49 17 32]]\n"
          ]
        }
      ]
    },
    {
      "cell_type": "code",
      "source": [
        "#Perfoming the values it in the 2nd Steps.\n",
        "import numpy as np;\n",
        "np.random.seed(5);\n",
        "val1=np.random.randint(0,100,size=(9,9));\n",
        "print(\"\\n Matrix Given is: \\n\\n\",val1);\n",
        "print(\"\\n Total Size of the Matrix val: \",val1.shape);\n",
        "print(\"\\n No: of Rows taken only: \",val1.shape[0]); # Then, it takes Rows only!;"
      ],
      "metadata": {
        "colab": {
          "base_uri": "https://localhost:8080/"
        },
        "id": "P2lX3lQ-8Pya",
        "outputId": "0029be79-6dab-413e-f63e-8cf8e83fa295"
      },
      "execution_count": null,
      "outputs": [
        {
          "output_type": "stream",
          "name": "stdout",
          "text": [
            "\n",
            " Matrix Given is: \n",
            "\n",
            " [[99 78 61 16 73  8 62 27 30]\n",
            " [80  7 76 15 53 80 27 44 77]\n",
            " [75 65 47 30 84 86 18  9 41]\n",
            " [62  1 82 16 78  5 58  0 80]\n",
            " [ 4 36 51 27 31  2 68 38 83]\n",
            " [19 18  7 30 62 11 67 65 55]\n",
            " [ 3 91 78 27 29 33 89 85  7]\n",
            " [16 94 14 90 31  9 38 47 16]\n",
            " [ 5 34 45 59 24 13 31 32 76]]\n",
            "\n",
            " Total Size of the Matrix val:  (9, 9)\n",
            "\n",
            " No: of Rows taken only:  9\n"
          ]
        }
      ]
    },
    {
      "cell_type": "code",
      "source": [
        "#Step-2nd.\n",
        "print(\"\\n -- Step-2nd Demonsterations!\");\n",
        "B=[];  #Empty Lists.\n",
        "for i in range(val1.shape[0]):\n",
        "  temp=val1[i:].mean();\n",
        "  B.append(temp);\n",
        "print(B);"
      ],
      "metadata": {
        "colab": {
          "base_uri": "https://localhost:8080/"
        },
        "id": "UDq2xqR5DkG5",
        "outputId": "cfebb23a-a712-4267-9b1c-1391e917fc8b"
      },
      "execution_count": null,
      "outputs": [
        {
          "output_type": "stream",
          "name": "stdout",
          "text": [
            "\n",
            " -- Step-2nd Demonsterations!\n",
            "[43.7037037037037, 42.861111111111114, 41.698412698412696, 40.22222222222222, 39.77777777777778, 40.27777777777778, 41.333333333333336, 37.44444444444444, 35.44444444444444]\n"
          ]
        }
      ]
    },
    {
      "cell_type": "code",
      "source": [
        "#Step-3rd.\n",
        "print(\"\\n -- Step-3rd Demonsterations!\");\n",
        "C=np.zeros((val1.shape[0],val1.shape[1]));\n",
        "ZerosCount=0;\n",
        "NonZerosCount=0;\n",
        "for i in range(val1.shape[0]):\n",
        "  for j in range(val1.shape[1]):\n",
        "    if(val1[i,j])>B[i]:\n",
        "      C[i,j]=0;\n",
        "      ZerosCount=ZerosCount+1;\n",
        "    else:\n",
        "      C[i,j]=val1[i,j];\n",
        "      NonZerosCount=NonZerosCount+1;\n",
        "if(ZerosCount+NonZerosCount==val1.size):\n",
        "  print(\"\\n ------- Updated matrix is been Verified! ---------\");\n",
        "else:\n",
        "  print(\"Something went wrong!\");\n",
        "print(\"\\n Zeros Count: \",ZerosCount);\n",
        "print(\"\\n NonZeros Count: \",NonZerosCount);"
      ],
      "metadata": {
        "colab": {
          "base_uri": "https://localhost:8080/"
        },
        "id": "kkQ4BmlUEtUe",
        "outputId": "4910bda1-085d-4324-e8cd-74308a6f25dc"
      },
      "execution_count": null,
      "outputs": [
        {
          "output_type": "stream",
          "name": "stdout",
          "text": [
            "\n",
            " -- Step-3rd Demonsterations!\n",
            "\n",
            " ------- Updated matrix is been Verified! ---------\n",
            "\n",
            " Zeros Count:  39\n",
            "\n",
            " NonZeros Count:  42\n"
          ]
        }
      ]
    },
    {
      "cell_type": "code",
      "source": [
        "# prompt: #Implementing the Another Program Called: Max_Pooling.\n",
        "\n",
        "import numpy as np\n",
        "\n",
        "# Create a 4x4 matrix\n",
        "X = np.array([[1, 2, 3, 4],\n",
        "              [5, 6, 7, 8],\n",
        "              [9, 10, 11, 12],\n",
        "              [13, 14, 15, 16]])\n",
        "\n",
        "# Define the filter size\n",
        "filter_size = 2\n",
        "\n",
        "# Calculate the output shape\n",
        "output_shape = (X.shape[0] - filter_size + 1, X.shape[1] - filter_size + 1)\n",
        "\n",
        "# Initialize the output matrix\n",
        "Y = np.zeros(output_shape)\n",
        "\n",
        "# Perform max pooling\n",
        "for i in range(output_shape[0]):\n",
        "  for j in range(output_shape[1]):\n",
        "    # Extract the submatrix\n",
        "    submatrix = X[i:i+filter_size, j:j+filter_size]\n",
        "\n",
        "    # Find the maximum value in the submatrix\n",
        "    Y[i, j] = np.max(submatrix)\n",
        "\n",
        "# Print the output matrix\n",
        "print(Y)\n"
      ],
      "metadata": {
        "colab": {
          "base_uri": "https://localhost:8080/"
        },
        "id": "xl7Ze5wcJIPh",
        "outputId": "1207a057-218b-4140-f4c5-0cbb48732fa4"
      },
      "execution_count": null,
      "outputs": [
        {
          "output_type": "stream",
          "name": "stdout",
          "text": [
            "[[ 6.  7.  8.]\n",
            " [10. 11. 12.]\n",
            " [14. 15. 16.]]\n"
          ]
        }
      ]
    },
    {
      "cell_type": "code",
      "source": [
        "#Implementing the max_Pooling.\n",
        "import numpy as np;\n",
        "np.random.seed(5);\n",
        "val1=np.random.randint(1,100,size=(4,4));\n",
        "print(\"\\n Given Matrix is: \\n\\n\",val1);\n",
        "print(\"\\n Total Size of the Matrix are: \",val1.shape)"
      ],
      "metadata": {
        "id": "4H0OHojQK1ac",
        "outputId": "6364e0d6-1bbf-4e4c-9db9-b63034cedb92",
        "colab": {
          "base_uri": "https://localhost:8080/"
        }
      },
      "execution_count": null,
      "outputs": [
        {
          "output_type": "stream",
          "name": "stdout",
          "text": [
            "\n",
            " Given Matrix is: \n",
            "\n",
            " [[79 62 17 74]\n",
            " [ 9 63 28 31]\n",
            " [81  8 77 16]\n",
            " [54 81 28 45]]\n",
            "\n",
            " Total Size of the Matrix are:  (4, 4)\n"
          ]
        }
      ]
    },
    {
      "cell_type": "code",
      "source": [
        "#Now, my next step we need to find out the slicing of each part of subarrays.\n",
        "'''\n",
        "for i in range(0,val1.shape[0],2):\n",
        "  for j in range(0,val1.shape[i]):\n",
        "    temp=val1.max(i,j);\n",
        "    temp=temp+1;\n",
        "  print(temp);\n",
        "#Now, put all elements in B Matrix with Maximum Values.\n",
        "B=np.array(temp);\n",
        "print(\"\\n Given Values Matrix is: \",B);\n",
        "'''\n",
        "\n",
        "for i in range(0,val1.shape[0],4):\n",
        "  for j in range(0,val1.shape[i],4):\n",
        "    B=val1[i:i+4,j:j+4];\n",
        "    print(B);"
      ],
      "metadata": {
        "id": "ttBEttm8LwZm",
        "outputId": "cffa8451-f0aa-4eb8-e9f5-4a6e50afefdb",
        "colab": {
          "base_uri": "https://localhost:8080/"
        }
      },
      "execution_count": null,
      "outputs": [
        {
          "output_type": "stream",
          "name": "stdout",
          "text": [
            "[[79 62 17 74]\n",
            " [ 9 63 28 31]\n",
            " [81  8 77 16]\n",
            " [54 81 28 45]]\n"
          ]
        }
      ]
    },
    {
      "cell_type": "code",
      "source": [
        "import numpy as np\n",
        "\n",
        "# Given matrix\n",
        "matrix = np.array([\n",
        "    [3, 14, 15, 6],\n",
        "    [16, 9, 8, 4],\n",
        "    [2, 16, 16, 17],\n",
        "    [12, 15, 17, 7]\n",
        "])\n",
        "\n",
        "# Get dimensions of the original matrix\n",
        "rows, cols = matrix.shape\n",
        "\n",
        "# Create a matrix to store max values\n",
        "max_matrix = np.zeros((rows//2, cols//2), dtype=int)\n",
        "\n",
        "# Iterate over the matrix in steps of 2\n",
        "for i in range(0, rows, 2):\n",
        "    for j in range(0, cols, 2):\n",
        "        # Extract 2x2 submatrix\n",
        "        submatrix = matrix[i:i+2, j:j+2]\n",
        "        print(submatrix)\n",
        "\n",
        "        temp = submatrix\n",
        "        max_value = temp.max()\n",
        "        print(f\"Max value: {max_value}\")\n",
        "        print(temp)\n",
        "        print()  # Add a blank line between submatrices\n",
        "\n",
        "        # Store max value in max_matrix\n",
        "        max_matrix[i//2, j//2] = max_value\n",
        "\n",
        "# Print the matrix of max values\n",
        "print(\"Matrix of max values:\")\n",
        "print(max_matrix)"
      ],
      "metadata": {
        "id": "v_naCz5SQh8h",
        "outputId": "7a5bb7ec-f31a-4bf1-b95b-9c1e7e224049",
        "colab": {
          "base_uri": "https://localhost:8080/"
        }
      },
      "execution_count": null,
      "outputs": [
        {
          "output_type": "stream",
          "name": "stdout",
          "text": [
            "[[ 3 14]\n",
            " [16  9]]\n",
            "Max value: 16\n",
            "[[ 3 14]\n",
            " [16  9]]\n",
            "\n",
            "[[15  6]\n",
            " [ 8  4]]\n",
            "Max value: 15\n",
            "[[15  6]\n",
            " [ 8  4]]\n",
            "\n",
            "[[ 2 16]\n",
            " [12 15]]\n",
            "Max value: 16\n",
            "[[ 2 16]\n",
            " [12 15]]\n",
            "\n",
            "[[16 17]\n",
            " [17  7]]\n",
            "Max value: 17\n",
            "[[16 17]\n",
            " [17  7]]\n",
            "\n",
            "Matrix of max values:\n",
            "[[16 15]\n",
            " [16 17]]\n"
          ]
        }
      ]
    },
    {
      "cell_type": "code",
      "source": [
        "#Another Method By Implementing the Same Programmes.\n",
        "import numpy as np;\n",
        "np.random.seed(5);\n",
        "A=np.random.randint(1,100,size=(4,4));\n",
        "print(\"\\n Given Matrix is: \\n\\n\",A);\n",
        "print(\"\\n Total Size of the Matrix is: \",A.shape);"
      ],
      "metadata": {
        "id": "Cvcs9gzGRWwd",
        "outputId": "23af5021-51b8-46bf-a00c-3266f173f350",
        "colab": {
          "base_uri": "https://localhost:8080/"
        }
      },
      "execution_count": null,
      "outputs": [
        {
          "output_type": "stream",
          "name": "stdout",
          "text": [
            "\n",
            " Given Matrix is: \n",
            "\n",
            " [[79 62 17 74]\n",
            " [ 9 63 28 31]\n",
            " [81  8 77 16]\n",
            " [54 81 28 45]]\n",
            "\n",
            " Total Size of the Matrix is:  (4, 4)\n"
          ]
        }
      ]
    },
    {
      "cell_type": "code",
      "source": [
        "#Now, we need to finding the part of the submatrix.\n",
        "#Finding the Maximum Values of wach Submatrix.\n",
        "#Store all Extracted max_values from the Sub_Matrix store it in the Another Matrix.\n",
        "result=np.zeros((int(A.shape[0]/2),int(A.shape[1]/2)));\n",
        "for i in range(0,A.shape[0],2):\n",
        "  for j in range(0,A.shape[1],1):\n",
        "    submatrix=A[i:i+2,j:j+2];\n",
        "    print(\"\\n \", submatrix);\n",
        "    temp=submatrix;\n",
        "    max_value=temp.max();\n",
        "    print(max_value);\n",
        "    print(temp);\n",
        "    max_matrix[i//2, j//2] = max_value\n",
        "    print(max_matrix);"
      ],
      "metadata": {
        "id": "9UTJNy6XR0Md",
        "outputId": "778ff5fc-5ab4-4ccc-a8ad-e818328368e8",
        "colab": {
          "base_uri": "https://localhost:8080/"
        }
      },
      "execution_count": null,
      "outputs": [
        {
          "output_type": "stream",
          "name": "stdout",
          "text": [
            "\n",
            "  [[79 62]\n",
            " [ 9 63]]\n",
            "79\n",
            "[[79 62]\n",
            " [ 9 63]]\n",
            "[[79 15]\n",
            " [16 17]]\n",
            "\n",
            "  [[62 17]\n",
            " [63 28]]\n",
            "63\n",
            "[[62 17]\n",
            " [63 28]]\n",
            "[[63 15]\n",
            " [16 17]]\n",
            "\n",
            "  [[17 74]\n",
            " [28 31]]\n",
            "74\n",
            "[[17 74]\n",
            " [28 31]]\n",
            "[[63 74]\n",
            " [16 17]]\n",
            "\n",
            "  [[74]\n",
            " [31]]\n",
            "74\n",
            "[[74]\n",
            " [31]]\n",
            "[[63 74]\n",
            " [16 17]]\n",
            "\n",
            "  [[81  8]\n",
            " [54 81]]\n",
            "81\n",
            "[[81  8]\n",
            " [54 81]]\n",
            "[[63 74]\n",
            " [81 17]]\n",
            "\n",
            "  [[ 8 77]\n",
            " [81 28]]\n",
            "81\n",
            "[[ 8 77]\n",
            " [81 28]]\n",
            "[[63 74]\n",
            " [81 17]]\n",
            "\n",
            "  [[77 16]\n",
            " [28 45]]\n",
            "77\n",
            "[[77 16]\n",
            " [28 45]]\n",
            "[[63 74]\n",
            " [81 77]]\n",
            "\n",
            "  [[16]\n",
            " [45]]\n",
            "45\n",
            "[[16]\n",
            " [45]]\n",
            "[[63 74]\n",
            " [81 45]]\n"
          ]
        }
      ]
    },
    {
      "cell_type": "code",
      "source": [
        "import numpy as np\n",
        "\n",
        "# Given matrix\n",
        "matrix = np.array([\n",
        "    [3, 14, 15, 6],\n",
        "    [16, 9, 8, 4],\n",
        "    [2, 16, 16, 17],\n",
        "    [12, 15, 17, 7]\n",
        "])\n",
        "\n",
        "# Get dimensions of the original matrix\n",
        "rows, cols = matrix.shape;\n",
        "\n",
        "# Create a matrix to store max values\n",
        "max_matrix = np.zeros((rows//2, cols//2), dtype=int);\n",
        "\n",
        "# Iterate over the matrix in steps of 2\n",
        "for i in range(0, rows, 2):\n",
        "    for j in range(0, cols, 2):\n",
        "        # Extract 2x2 submatrix\n",
        "        submatrix = matrix[i:i+2, j:j+2]\n",
        "        print(submatrix);\n",
        "\n",
        "        temp = submatrix;\n",
        "        max_value = temp.max();\n",
        "        print(f\"\\n --->Max value: {max_value}\");\n",
        "        print(\"\\n----------------------------\");\n",
        "        #print(temp)\n",
        "        print();  # Add a blank line between submatrices\n",
        "\n",
        "        # Store max value in max_matrix\n",
        "        max_matrix[i//2, j//2] = max_value;\n",
        "\n",
        "# Print the matrix of max values\n",
        "print(\"\\n----------------------------------------\\n\");\n",
        "print(\"\\n --> Matrix of max values:  \\n\");\n",
        "print(\"\\n Final results: \\n\\n\",max_matrix);"
      ],
      "metadata": {
        "id": "7-z21msTUEzG",
        "outputId": "fb2edebf-38f1-4c90-afdd-41ac2be5529b",
        "colab": {
          "base_uri": "https://localhost:8080/"
        }
      },
      "execution_count": null,
      "outputs": [
        {
          "output_type": "stream",
          "name": "stdout",
          "text": [
            "[[ 3 14]\n",
            " [16  9]]\n",
            "\n",
            " --->Max value: 16\n",
            "\n",
            "----------------------------\n",
            "\n",
            "[[15  6]\n",
            " [ 8  4]]\n",
            "\n",
            " --->Max value: 15\n",
            "\n",
            "----------------------------\n",
            "\n",
            "[[ 2 16]\n",
            " [12 15]]\n",
            "\n",
            " --->Max value: 16\n",
            "\n",
            "----------------------------\n",
            "\n",
            "[[16 17]\n",
            " [17  7]]\n",
            "\n",
            " --->Max value: 17\n",
            "\n",
            "----------------------------\n",
            "\n",
            "\n",
            "----------------------------------------\n",
            "\n",
            "\n",
            " --> Matrix of max values:  \n",
            "\n",
            "\n",
            " Final results: \n",
            "\n",
            " [[16 15]\n",
            " [16 17]]\n"
          ]
        }
      ]
    },
    {
      "cell_type": "markdown",
      "source": [
        "# Reading data from current csv Files."
      ],
      "metadata": {
        "id": "-V1qYCjRlowW"
      }
    },
    {
      "cell_type": "code",
      "source": [
        "import pandas as pd;\n",
        "#read the csv files.\n",
        "path='/Day-2 Data to real from CSV Files..csv';\n",
        "data=pd.read_csv(path);\n",
        "print(type(data));\n",
        "print(data.shape);"
      ],
      "metadata": {
        "colab": {
          "base_uri": "https://localhost:8080/"
        },
        "id": "Rmo_515rlwGH",
        "outputId": "84dbb0ac-7579-46ab-a1a9-4d6a0f673340"
      },
      "execution_count": 5,
      "outputs": [
        {
          "output_type": "stream",
          "name": "stdout",
          "text": [
            "<class 'pandas.core.frame.DataFrame'>\n",
            "(18625, 10)\n"
          ]
        }
      ]
    },
    {
      "cell_type": "code",
      "source": [
        "# display the initial content of the Data.\n",
        "print(data.head());"
      ],
      "metadata": {
        "id": "UCFHYHHdnakm"
      },
      "execution_count": null,
      "outputs": []
    },
    {
      "cell_type": "code",
      "source": [
        "print(data.tail());"
      ],
      "metadata": {
        "colab": {
          "base_uri": "https://localhost:8080/"
        },
        "id": "rPI8IaGRpsGW",
        "outputId": "5a0791bf-e127-462b-f92b-790dacfb4e62"
      },
      "execution_count": 10,
      "outputs": [
        {
          "output_type": "stream",
          "name": "stdout",
          "text": [
            "      score_phrase                                    title  \\\n",
            "18620         Good                Tokyo Mirage Sessions #FE   \n",
            "18621      Amazing        LEGO Star Wars: The Force Awakens   \n",
            "18622     Mediocre  Star Ocean: Integrity and Faithlessness   \n",
            "18623  Masterpiece                                   Inside   \n",
            "18624  Masterpiece                                   Inside   \n",
            "\n",
            "                                                     url       platform  \\\n",
            "18620  /games/fire-emblem-x-shin-megami-tensei/wii-u-...          Wii U   \n",
            "18621  /games/lego-star-wars-the-force-awakens/ps4-20...  PlayStation 4   \n",
            "18622                   /games/star-ocean-5/ps4-20035681  PlayStation 4   \n",
            "18623             /games/inside-playdead/xbox-one-121435       Xbox One   \n",
            "18624                 /games/inside-playdead/pc-20055740             PC   \n",
            "\n",
            "       score              genre editors_choice  release_year  release_month  \\\n",
            "18620    7.6                RPG              N          2016              6   \n",
            "18621    9.0  Action, Adventure              Y          2016              6   \n",
            "18622    5.8                RPG              N          2016              6   \n",
            "18623   10.0          Adventure              Y          2016              6   \n",
            "18624   10.0          Adventure              Y          2016              6   \n",
            "\n",
            "       release_day  \n",
            "18620           29  \n",
            "18621           29  \n",
            "18622           28  \n",
            "18623           28  \n",
            "18624           28  \n"
          ]
        }
      ]
    },
    {
      "cell_type": "code",
      "source": [
        "#Indexing of our Data Frames.\n",
        "#iloc-> index-wise Locations.\n",
        "print(data.iloc[2:6,[3,0,4]]);  #Index wise Locations."
      ],
      "metadata": {
        "colab": {
          "base_uri": "https://localhost:8080/"
        },
        "id": "2458OSnTqDbu",
        "outputId": "443f9cfd-cae9-4d5c-e10c-af9ddbea031e"
      },
      "execution_count": 13,
      "outputs": [
        {
          "output_type": "stream",
          "name": "stdout",
          "text": [
            "        platform score_phrase  score\n",
            "2           iPad        Great    8.5\n",
            "3       Xbox 360        Great    8.5\n",
            "4  PlayStation 3        Great    8.5\n",
            "5      Macintosh         Good    7.0\n"
          ]
        }
      ]
    },
    {
      "cell_type": "code",
      "source": [
        "#for complex data it is very difficult to extracting the Data based on Indexing and Slicing.\n",
        "#So, we use Label-Wise Indexing for Extracting the Complex Data.\n",
        "print(data.loc[2:5,['score_phrase','score']]);  #Label wise locations."
      ],
      "metadata": {
        "colab": {
          "base_uri": "https://localhost:8080/"
        },
        "id": "GDyS-cJ9rEP-",
        "outputId": "21356370-ae15-4bcb-e324-698728bcb54b"
      },
      "execution_count": 17,
      "outputs": [
        {
          "output_type": "stream",
          "name": "stdout",
          "text": [
            "  score_phrase  score\n",
            "2        Great    8.5\n",
            "3        Great    8.5\n",
            "4        Great    8.5\n",
            "5         Good    7.0\n"
          ]
        }
      ]
    },
    {
      "cell_type": "code",
      "source": [
        "#All Samples Accessing Using the Column Labels.\n",
        "print(data['genre']);"
      ],
      "metadata": {
        "colab": {
          "base_uri": "https://localhost:8080/"
        },
        "id": "1tlFjEPKtmYG",
        "outputId": "00a19c7d-03bb-40fc-82a9-f7313f26e46e"
      },
      "execution_count": 20,
      "outputs": [
        {
          "output_type": "stream",
          "name": "stdout",
          "text": [
            "0               Platformer\n",
            "1               Platformer\n",
            "2                   Puzzle\n",
            "3                   Sports\n",
            "4                   Sports\n",
            "               ...        \n",
            "18620                  RPG\n",
            "18621    Action, Adventure\n",
            "18622                  RPG\n",
            "18623            Adventure\n",
            "18624            Adventure\n",
            "Name: genre, Length: 18625, dtype: object\n"
          ]
        }
      ]
    },
    {
      "cell_type": "code",
      "source": [
        "#In, order to get the Schema.\n",
        "print(data.info());"
      ],
      "metadata": {
        "colab": {
          "base_uri": "https://localhost:8080/"
        },
        "id": "tg6BUkJ6uh-f",
        "outputId": "998541df-662a-40f9-c75a-00cba2e80505"
      },
      "execution_count": 21,
      "outputs": [
        {
          "output_type": "stream",
          "name": "stdout",
          "text": [
            "<class 'pandas.core.frame.DataFrame'>\n",
            "RangeIndex: 18625 entries, 0 to 18624\n",
            "Data columns (total 10 columns):\n",
            " #   Column          Non-Null Count  Dtype  \n",
            "---  ------          --------------  -----  \n",
            " 0   score_phrase    18625 non-null  object \n",
            " 1   title           18625 non-null  object \n",
            " 2   url             18625 non-null  object \n",
            " 3   platform        18625 non-null  object \n",
            " 4   score           18625 non-null  float64\n",
            " 5   genre           18589 non-null  object \n",
            " 6   editors_choice  18625 non-null  object \n",
            " 7   release_year    18625 non-null  int64  \n",
            " 8   release_month   18625 non-null  int64  \n",
            " 9   release_day     18625 non-null  int64  \n",
            "dtypes: float64(1), int64(3), object(6)\n",
            "memory usage: 1.4+ MB\n",
            "None\n"
          ]
        }
      ]
    },
    {
      "cell_type": "code",
      "source": [
        "#Acess Score of all the Games.\n",
        "score=data['score'];\n",
        "#average of the Score.\n",
        "avg=score.mean();\n",
        "mx=score.max();\n",
        "mn=score.min();\n",
        "var=score.var();\n",
        "std=score.std();\n",
        "\n",
        "print(\"\\n 1. Average: \",avg);\n",
        "print(\"\\n 2. Max_score: \",mx);\n",
        "print(\"\\n 3. Min_score: \",mn);\n",
        "print(\"\\n 4. Variance: \",var);\n",
        "print(\"\\n 5. Standard Deviations: \",std);"
      ],
      "metadata": {
        "colab": {
          "base_uri": "https://localhost:8080/"
        },
        "id": "zEN0Ofi3uvA3",
        "outputId": "bcab8644-43d5-4882-bfcd-e3abee7631e7"
      },
      "execution_count": 23,
      "outputs": [
        {
          "output_type": "stream",
          "name": "stdout",
          "text": [
            "\n",
            " 1. Average:  6.950459060402685\n",
            "\n",
            " 2. Max_score:  10.0\n",
            "\n",
            " 3. Min_score:  0.5\n",
            "\n",
            " 4. Variance:  2.9300396571646026\n",
            "\n",
            " 5. Standard Deviations:  1.7117358608046402\n"
          ]
        }
      ]
    },
    {
      "cell_type": "code",
      "source": [
        "print(score.describe());"
      ],
      "metadata": {
        "colab": {
          "base_uri": "https://localhost:8080/"
        },
        "id": "BXRTtvCLvoGv",
        "outputId": "fee2e19b-4bfe-4792-936f-204768fa8423"
      },
      "execution_count": 33,
      "outputs": [
        {
          "output_type": "stream",
          "name": "stdout",
          "text": [
            "count    18625.000000\n",
            "mean         6.950459\n",
            "std          1.711736\n",
            "min          0.500000\n",
            "25%          6.000000\n",
            "50%          7.300000\n",
            "75%          8.200000\n",
            "max         10.000000\n",
            "Name: score, dtype: float64\n"
          ]
        }
      ]
    },
    {
      "cell_type": "code",
      "source": [
        "#how many unique score phrases (unique values from table - data)! identical valueshelps to finds.\n",
        "phrases=data['score_phrase'].unique();\n",
        "print(phrases);"
      ],
      "metadata": {
        "colab": {
          "base_uri": "https://localhost:8080/"
        },
        "id": "nHloPOivv_zv",
        "outputId": "599f28d3-fa38-460d-bd7d-0fecc0ec6f0a"
      },
      "execution_count": 26,
      "outputs": [
        {
          "output_type": "stream",
          "name": "stdout",
          "text": [
            "['Amazing' 'Great' 'Good' 'Awful' 'Okay' 'Mediocre' 'Bad' 'Painful'\n",
            " 'Unbearable' 'Disaster' 'Masterpiece']\n"
          ]
        }
      ]
    },
    {
      "cell_type": "code",
      "source": [
        "#To, check how many years of data you have!\n",
        "year=data['release_year'].unique();\n",
        "print(\"Years exist in the given data-sets\");\n",
        "print(\"\\n total Years: \",year);"
      ],
      "metadata": {
        "colab": {
          "base_uri": "https://localhost:8080/"
        },
        "id": "mKb7gGNWxn1_",
        "outputId": "de9ae818-2c43-4a04-f8ab-0c97ed6a328a"
      },
      "execution_count": 28,
      "outputs": [
        {
          "output_type": "stream",
          "name": "stdout",
          "text": [
            "Years exist in the given data-sets\n",
            "\n",
            " total Years:  [2012 2013 1996 1970 1997 1998 1999 2000 2001 2002 2003 2004 2005 2006\n",
            " 2007 2008 2009 2010 2011 2014 2015 2016]\n"
          ]
        }
      ]
    },
    {
      "cell_type": "code",
      "source": [
        "# Now, we need to check how many games exist in each year.\n",
        "games_number=data['release_year'].value_counts();\n",
        "print(games_number);"
      ],
      "metadata": {
        "colab": {
          "base_uri": "https://localhost:8080/"
        },
        "id": "L2OdFPeIyLQX",
        "outputId": "f459e4a1-2086-4ac7-89e0-680112ddb5cb"
      },
      "execution_count": 30,
      "outputs": [
        {
          "output_type": "stream",
          "name": "stdout",
          "text": [
            "release_year\n",
            "2008    1915\n",
            "2009    1687\n",
            "2007    1610\n",
            "2010    1363\n",
            "2006    1208\n",
            "2005    1088\n",
            "2011    1073\n",
            "2000    1045\n",
            "2004     997\n",
            "2003     969\n",
            "2002     936\n",
            "1999     775\n",
            "2012     753\n",
            "2013     696\n",
            "2001     688\n",
            "2014     537\n",
            "2015     365\n",
            "1998     339\n",
            "2016     226\n",
            "1997     205\n",
            "1996     149\n",
            "1970       1\n",
            "Name: count, dtype: int64\n"
          ]
        }
      ]
    },
    {
      "cell_type": "code",
      "source": [
        "#We, are finding the total number of the games as per the 'score_phrases' given below!;\n",
        "count=data['score_phrase'].value_counts();\n",
        "print(count);"
      ],
      "metadata": {
        "colab": {
          "base_uri": "https://localhost:8080/"
        },
        "id": "117N0oLbyaH-",
        "outputId": "a1d285e9-7ecf-451a-fbc7-9b059b55f08b"
      },
      "execution_count": 32,
      "outputs": [
        {
          "output_type": "stream",
          "name": "stdout",
          "text": [
            "score_phrase\n",
            "Great          4773\n",
            "Good           4741\n",
            "Okay           2945\n",
            "Mediocre       1959\n",
            "Amazing        1804\n",
            "Bad            1269\n",
            "Awful           664\n",
            "Painful         340\n",
            "Unbearable       72\n",
            "Masterpiece      55\n",
            "Disaster          3\n",
            "Name: count, dtype: int64\n"
          ]
        }
      ]
    },
    {
      "cell_type": "code",
      "source": [
        "#finding the PC Games exist in the Given Table Data-Sets!\n",
        "\n",
        "#First We, have to find the nature character of the PC!\n",
        "platform=data['platform'].unique();\n",
        "print(platform);\n",
        "\n",
        "#Extracting the Value 'PC' from the column 'Platform' on it!\n",
        "ind=data['platform']=='PC';\n",
        "newdata=data[ind];\n",
        "print(\"\\n Total number of PC games are: \",newdata.shape[0]);"
      ],
      "metadata": {
        "colab": {
          "base_uri": "https://localhost:8080/"
        },
        "id": "uvqPguBgzS-X",
        "outputId": "fad50bc2-ae33-482f-94c3-a24d735ca516"
      },
      "execution_count": 35,
      "outputs": [
        {
          "output_type": "stream",
          "name": "stdout",
          "text": [
            "['PlayStation Vita' 'iPad' 'Xbox 360' 'PlayStation 3' 'Macintosh' 'PC'\n",
            " 'iPhone' 'Nintendo DS' 'Nintendo 3DS' 'Android' 'Wii' 'PlayStation 4'\n",
            " 'Wii U' 'Linux' 'PlayStation Portable' 'PlayStation' 'Nintendo 64'\n",
            " 'Saturn' 'Lynx' 'Game Boy' 'Game Boy Color' 'NeoGeo Pocket Color'\n",
            " 'Game.Com' 'Dreamcast' 'Dreamcast VMU' 'WonderSwan' 'Arcade'\n",
            " 'Nintendo 64DD' 'PlayStation 2' 'WonderSwan Color' 'Game Boy Advance'\n",
            " 'Xbox' 'GameCube' 'DVD / HD Video Game' 'Wireless' 'Pocket PC' 'N-Gage'\n",
            " 'NES' 'iPod' 'Genesis' 'TurboGrafx-16' 'Super NES' 'NeoGeo'\n",
            " 'Master System' 'Atari 5200' 'TurboGrafx-CD' 'Atari 2600' 'Sega 32X'\n",
            " 'Vectrex' 'Commodore 64/128' 'Sega CD' 'Nintendo DSi' 'Windows Phone'\n",
            " 'Web Games' 'Xbox One' 'Windows Surface' 'Ouya' 'New Nintendo 3DS'\n",
            " 'SteamOS']\n",
            "\n",
            " Total number of PC games are:  3370\n"
          ]
        }
      ]
    },
    {
      "cell_type": "code",
      "source": [
        "#How, many amazing games are there!\n",
        "platform=data['platform'].unique();\n",
        "print(platform);\n",
        "\n",
        "#Now, calculate count the total Amazing Games are there!\n",
        "ind1=data['score_phrase']=='Amazing';\n",
        "newdata1=data[ind1];\n",
        "print(\"\\n Total Number of the Amazing Games exist in a Platform are: \",newdata1.shape[0]);"
      ],
      "metadata": {
        "colab": {
          "base_uri": "https://localhost:8080/"
        },
        "id": "A5my12711UbH",
        "outputId": "f8caaa57-5baf-4fa5-ae19-8dcac497bfee"
      },
      "execution_count": 42,
      "outputs": [
        {
          "output_type": "stream",
          "name": "stdout",
          "text": [
            "['PlayStation Vita' 'iPad' 'Xbox 360' 'PlayStation 3' 'Macintosh' 'PC'\n",
            " 'iPhone' 'Nintendo DS' 'Nintendo 3DS' 'Android' 'Wii' 'PlayStation 4'\n",
            " 'Wii U' 'Linux' 'PlayStation Portable' 'PlayStation' 'Nintendo 64'\n",
            " 'Saturn' 'Lynx' 'Game Boy' 'Game Boy Color' 'NeoGeo Pocket Color'\n",
            " 'Game.Com' 'Dreamcast' 'Dreamcast VMU' 'WonderSwan' 'Arcade'\n",
            " 'Nintendo 64DD' 'PlayStation 2' 'WonderSwan Color' 'Game Boy Advance'\n",
            " 'Xbox' 'GameCube' 'DVD / HD Video Game' 'Wireless' 'Pocket PC' 'N-Gage'\n",
            " 'NES' 'iPod' 'Genesis' 'TurboGrafx-16' 'Super NES' 'NeoGeo'\n",
            " 'Master System' 'Atari 5200' 'TurboGrafx-CD' 'Atari 2600' 'Sega 32X'\n",
            " 'Vectrex' 'Commodore 64/128' 'Sega CD' 'Nintendo DSi' 'Windows Phone'\n",
            " 'Web Games' 'Xbox One' 'Windows Surface' 'Ouya' 'New Nintendo 3DS'\n",
            " 'SteamOS']\n",
            "\n",
            " Total Number of the Amazing Games exist in a Platform are:  1804\n"
          ]
        }
      ]
    },
    {
      "cell_type": "code",
      "source": [
        "#How, many PC's Games are Amazing!\n",
        "platform=data['platform'].unique();\n",
        "print(platform);\n",
        "\n",
        "#How, many pc games are amazing!\n",
        "ind1=data['platform']=='PC';\n",
        "ind2=data['score_phrase']=='Amazing';\n",
        "newdata=ind1&ind2;\n",
        "amazing_games=data[newdata];\n",
        "num_amazing_pc=amazing_games.shape[0];\n",
        "print(\"\\n Number of Games are found to be Amazing: \",num_amazing_pc);"
      ],
      "metadata": {
        "colab": {
          "base_uri": "https://localhost:8080/"
        },
        "id": "RLmDKwDf2aA3",
        "outputId": "32eae284-01dd-442a-815b-2286790e30fe"
      },
      "execution_count": 48,
      "outputs": [
        {
          "output_type": "stream",
          "name": "stdout",
          "text": [
            "['PlayStation Vita' 'iPad' 'Xbox 360' 'PlayStation 3' 'Macintosh' 'PC'\n",
            " 'iPhone' 'Nintendo DS' 'Nintendo 3DS' 'Android' 'Wii' 'PlayStation 4'\n",
            " 'Wii U' 'Linux' 'PlayStation Portable' 'PlayStation' 'Nintendo 64'\n",
            " 'Saturn' 'Lynx' 'Game Boy' 'Game Boy Color' 'NeoGeo Pocket Color'\n",
            " 'Game.Com' 'Dreamcast' 'Dreamcast VMU' 'WonderSwan' 'Arcade'\n",
            " 'Nintendo 64DD' 'PlayStation 2' 'WonderSwan Color' 'Game Boy Advance'\n",
            " 'Xbox' 'GameCube' 'DVD / HD Video Game' 'Wireless' 'Pocket PC' 'N-Gage'\n",
            " 'NES' 'iPod' 'Genesis' 'TurboGrafx-16' 'Super NES' 'NeoGeo'\n",
            " 'Master System' 'Atari 5200' 'TurboGrafx-CD' 'Atari 2600' 'Sega 32X'\n",
            " 'Vectrex' 'Commodore 64/128' 'Sega CD' 'Nintendo DSi' 'Windows Phone'\n",
            " 'Web Games' 'Xbox One' 'Windows Surface' 'Ouya' 'New Nintendo 3DS'\n",
            " 'SteamOS']\n",
            "\n",
            " Number of Games are found to be Amazing:  351\n"
          ]
        }
      ]
    },
    {
      "cell_type": "code",
      "source": [
        "#How, many Games are found to be Amazing1\n",
        "#1. First we have to chekc the Datasets!\n",
        "platform=data['platform'].unique();\n",
        "print(platform);\n",
        "\n",
        "#Now, we take the Values seperately!\n",
        "ind1=data['platform']=='PC';\n",
        "ind2=data['score_phrase']=='Amazing';\n",
        "new_data=ind1&ind2;\n",
        "checked=data[new_data];\n",
        "temp=checked.shape[0];\n",
        "print(\"\\n Totalm Number of PC's are Amazing: \",temp);"
      ],
      "metadata": {
        "colab": {
          "base_uri": "https://localhost:8080/"
        },
        "id": "m_K9SADT4G9H",
        "outputId": "31d79407-677e-401c-bfa2-57f6e6f684af"
      },
      "execution_count": 50,
      "outputs": [
        {
          "output_type": "stream",
          "name": "stdout",
          "text": [
            "['PlayStation Vita' 'iPad' 'Xbox 360' 'PlayStation 3' 'Macintosh' 'PC'\n",
            " 'iPhone' 'Nintendo DS' 'Nintendo 3DS' 'Android' 'Wii' 'PlayStation 4'\n",
            " 'Wii U' 'Linux' 'PlayStation Portable' 'PlayStation' 'Nintendo 64'\n",
            " 'Saturn' 'Lynx' 'Game Boy' 'Game Boy Color' 'NeoGeo Pocket Color'\n",
            " 'Game.Com' 'Dreamcast' 'Dreamcast VMU' 'WonderSwan' 'Arcade'\n",
            " 'Nintendo 64DD' 'PlayStation 2' 'WonderSwan Color' 'Game Boy Advance'\n",
            " 'Xbox' 'GameCube' 'DVD / HD Video Game' 'Wireless' 'Pocket PC' 'N-Gage'\n",
            " 'NES' 'iPod' 'Genesis' 'TurboGrafx-16' 'Super NES' 'NeoGeo'\n",
            " 'Master System' 'Atari 5200' 'TurboGrafx-CD' 'Atari 2600' 'Sega 32X'\n",
            " 'Vectrex' 'Commodore 64/128' 'Sega CD' 'Nintendo DSi' 'Windows Phone'\n",
            " 'Web Games' 'Xbox One' 'Windows Surface' 'Ouya' 'New Nintendo 3DS'\n",
            " 'SteamOS']\n",
            "\n",
            " Totalm Number of PC's are Amazing:  351\n"
          ]
        }
      ]
    },
    {
      "cell_type": "code",
      "source": [
        "#checking the data now, representing using the Graphical Forms1\n",
        "!pip install seaborn;"
      ],
      "metadata": {
        "colab": {
          "base_uri": "https://localhost:8080/"
        },
        "id": "JuPJ9ekB5QCf",
        "outputId": "759115e6-e350-4536-8f49-c70e635b2594"
      },
      "execution_count": 51,
      "outputs": [
        {
          "output_type": "stream",
          "name": "stdout",
          "text": [
            "Requirement already satisfied: seaborn in /usr/local/lib/python3.10/dist-packages (0.13.1)\n",
            "Requirement already satisfied: numpy!=1.24.0,>=1.20 in /usr/local/lib/python3.10/dist-packages (from seaborn) (1.25.2)\n",
            "Requirement already satisfied: pandas>=1.2 in /usr/local/lib/python3.10/dist-packages (from seaborn) (2.0.3)\n",
            "Requirement already satisfied: matplotlib!=3.6.1,>=3.4 in /usr/local/lib/python3.10/dist-packages (from seaborn) (3.7.1)\n",
            "Requirement already satisfied: contourpy>=1.0.1 in /usr/local/lib/python3.10/dist-packages (from matplotlib!=3.6.1,>=3.4->seaborn) (1.2.1)\n",
            "Requirement already satisfied: cycler>=0.10 in /usr/local/lib/python3.10/dist-packages (from matplotlib!=3.6.1,>=3.4->seaborn) (0.12.1)\n",
            "Requirement already satisfied: fonttools>=4.22.0 in /usr/local/lib/python3.10/dist-packages (from matplotlib!=3.6.1,>=3.4->seaborn) (4.53.0)\n",
            "Requirement already satisfied: kiwisolver>=1.0.1 in /usr/local/lib/python3.10/dist-packages (from matplotlib!=3.6.1,>=3.4->seaborn) (1.4.5)\n",
            "Requirement already satisfied: packaging>=20.0 in /usr/local/lib/python3.10/dist-packages (from matplotlib!=3.6.1,>=3.4->seaborn) (24.1)\n",
            "Requirement already satisfied: pillow>=6.2.0 in /usr/local/lib/python3.10/dist-packages (from matplotlib!=3.6.1,>=3.4->seaborn) (9.4.0)\n",
            "Requirement already satisfied: pyparsing>=2.3.1 in /usr/local/lib/python3.10/dist-packages (from matplotlib!=3.6.1,>=3.4->seaborn) (3.1.2)\n",
            "Requirement already satisfied: python-dateutil>=2.7 in /usr/local/lib/python3.10/dist-packages (from matplotlib!=3.6.1,>=3.4->seaborn) (2.8.2)\n",
            "Requirement already satisfied: pytz>=2020.1 in /usr/local/lib/python3.10/dist-packages (from pandas>=1.2->seaborn) (2023.4)\n",
            "Requirement already satisfied: tzdata>=2022.1 in /usr/local/lib/python3.10/dist-packages (from pandas>=1.2->seaborn) (2024.1)\n",
            "Requirement already satisfied: six>=1.5 in /usr/local/lib/python3.10/dist-packages (from python-dateutil>=2.7->matplotlib!=3.6.1,>=3.4->seaborn) (1.16.0)\n"
          ]
        }
      ]
    },
    {
      "cell_type": "code",
      "source": [
        "import seaborn as sns;\n",
        "import matplotlib.pyplot as plt;\n",
        "\n",
        "#Count Plot!\n",
        "plt.figure(1,(10,4));\n",
        "axes1=sns.countplot(x=\"score_phrase\",data=data);\n",
        "plt.title(\"Reading the CSV Files!\");\n",
        "plt.show();\n",
        "for ax in (axes1.containers):\n",
        "  ax.get_label();"
      ],
      "metadata": {
        "colab": {
          "base_uri": "https://localhost:8080/",
          "height": 410
        },
        "id": "2mcjyuM05bQ2",
        "outputId": "9b6f45b4-10fd-4029-fddd-7a6fadfde802"
      },
      "execution_count": 61,
      "outputs": [
        {
          "output_type": "display_data",
          "data": {
            "text/plain": [
              "<Figure size 1000x400 with 1 Axes>"
            ],
            "image/png": "[encoded data removed]"
          },
          "metadata": {}
        }
      ]
    }
  ]
}